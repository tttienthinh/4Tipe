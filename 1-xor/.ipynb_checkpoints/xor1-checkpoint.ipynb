{
 "cells": [
  {
   "cell_type": "markdown",
   "metadata": {},
   "source": [
    "# 4TIPE\n",
    "sauvagement recopié à partir de :  \n",
    "\n",
    "https://github.com/shayanalibhatti/Coding-neural_network-for-XOR-logic-from-scratch  \n",
    "Très interessant, à l'image de Tensorflow, il utilise les matrices pour faire les opérations !!!"
   ]
  },
  {
   "cell_type": "markdown",
   "metadata": {},
   "source": [
    "## Single Hidden Layer Neural Network XOR Logic Code from Scratch"
   ]
  },
  {
   "cell_type": "markdown",
   "metadata": {},
   "source": [
    "#### First I import numpy library and matplotlib used to display loss curve "
   ]
  },
  {
   "cell_type": "code",
   "execution_count": 3,
   "metadata": {},
   "outputs": [],
   "source": [
    "import numpy as np\n",
    "import matplotlib.pyplot as plt"
   ]
  },
  {
   "cell_type": "markdown",
   "metadata": {},
   "source": [
    "#### Then I defined the inputs and structure of neural network"
   ]
  },
  {
   "cell_type": "code",
   "execution_count": 111,
   "metadata": {},
   "outputs": [
    {
     "name": "stdout",
     "output_type": "stream",
     "text": [
      "[[-0.41675785 -0.05626683]\n",
      " [-2.1361961   1.64027081]]\n",
      "[[-1.79343559 -0.84174737]]\n"
     ]
    }
   ],
   "source": [
    "# These are XOR inputs\n",
    "x=np.array([[0,1,0,1],[0,1,1,0]])\n",
    "# These are XOR outputs\n",
    "y=np.array([[0,0,1,1]])\n",
    "# Number of inputs\n",
    "n_x = 2\n",
    "# Number of neurons in output layer\n",
    "n_y = 1\n",
    "# Number of neurons in hidden layer\n",
    "n_h = 2\n",
    "# Total training examples\n",
    "m = x.shape[1] # égal à 2\n",
    "# Learning rate\n",
    "lr = 0.1\n",
    "# Define random seed for consistent results\n",
    "# np.random.seed(2) # Pour supprimer le pseudo hasard\n",
    "# Define weight matrices for neural network\n",
    "np.random.seed(2)\n",
    "w1 = np.random.randn(n_h,n_x)   # Weight matrix for hidden layer\n",
    "w2 = np.random.randn(n_y,n_h)   # Weight matrix for output layer\n",
    "# I didnt use bias units\n",
    "# We will use this list to accumulate losses\n",
    "losses = []\n",
    "print(w1)\n",
    "print(w2)"
   ]
  },
  {
   "cell_type": "markdown",
   "metadata": {},
   "source": [
    "#### Here I define the important processes as Python methods"
   ]
  },
  {
   "cell_type": "code",
   "execution_count": 114,
   "metadata": {},
   "outputs": [],
   "source": [
    "# I used sigmoid activation function for hidden layer and output\n",
    "def sigmoid(z):\n",
    "    z= 1/(1+np.exp(-z))\n",
    "    return z\n",
    "\n",
    "# Forward propagation\n",
    "def forward_prop(w1,w2,x):\n",
    "    z1 = np.dot(w1,x)\n",
    "    a1 = sigmoid(z1)    \n",
    "    z2 = np.dot(w2,a1)\n",
    "    a2 = sigmoid(z2)\n",
    "    return z1,a1,z2,a2\n",
    "\n",
    "# Backward propagation\n",
    "def back_prop(m,w1,w2,z1,a1,z2,a2,y):\n",
    "    dz2 = (a2-y)* a2*(1-a2)\n",
    "    dw2 = np.dot(dz2,a1.T)\n",
    "    dz1 = np.dot(w2.T,dz2) * a1*(1-a1)\n",
    "    dw1 = np.dot(dz1,x.T)\n",
    "    \n",
    "    dw1 = np.reshape(dw1,w1.shape)\n",
    "    dw2 = np.reshape(dw2,w2.shape)    \n",
    "    return dz2,dw2,dz1,dw1"
   ]
  },
  {
   "cell_type": "markdown",
   "metadata": {},
   "source": [
    "#### Now we run the neural network for 10000 iterations and observe the loss value"
   ]
  },
  {
   "cell_type": "code",
   "execution_count": 115,
   "metadata": {},
   "outputs": [],
   "source": [
    "w1 = np.random.rand(n_h,n_x)   # Weight matrix for hidden layer\n",
    "w2 = np.random.rand(n_y,n_h)   # Weight matrix for output layer"
   ]
  },
  {
   "cell_type": "code",
   "execution_count": 116,
   "metadata": {},
   "outputs": [
    {
     "data": {
      "text/plain": [
       "Text(0, 0.5, 'Loss value')"
      ]
     },
     "execution_count": 116,
     "metadata": {},
     "output_type": "execute_result"
    },
    {
     "data": {
      "image/png": "[encoded data removed]",
      "text/plain": [
       "<Figure size 432x288 with 1 Axes>"
      ]
     },
     "metadata": {
      "needs_background": "light"
     },
     "output_type": "display_data"
    }
   ],
   "source": [
    "iterations = 100_000\n",
    "for i in range(iterations):\n",
    "    z1,a1,z2,a2 = forward_prop(w1,w2,x)\n",
    "    loss = -(1/m)*np.sum(y*np.log(a2)+(1-y)*np.log(1-a2))\n",
    "    losses.append(loss)\n",
    "    da2,dw2,dz1,dw1 = back_prop(m,w1,w2,z1,a1,z2,a2,y)\n",
    "    w2 = w2-lr*dw2\n",
    "    w1 = w1-lr*dw1\n",
    "\n",
    "# We plot losses to see how our network is doing\n",
    "plt.plot(losses)\n",
    "plt.xlabel(\"EPOCHS\")\n",
    "plt.ylabel(\"Loss value\")"
   ]
  },
  {
   "cell_type": "markdown",
   "metadata": {},
   "source": [
    "#### Now after training we see how our neural network is doing in terms of predictions"
   ]
  },
  {
   "cell_type": "code",
   "execution_count": 95,
   "metadata": {},
   "outputs": [],
   "source": [
    "def predict(w1,w2,input):\n",
    "    z1,a1,z2,a2 = forward_prop(w1,w2,test)\n",
    "    a2 = np.squeeze(a2)\n",
    "    print(\"For input\", [i[0] for i in input], f\"output is {a2}\")\n",
    "    \"\"\"\n",
    "    if a2>=0.5:\n",
    "        print(\"For input\", [i[0] for i in input], \"output is 1\")# ['{:.2f}'.format(i) for i in x])\n",
    "    else:\n",
    "        print(\"For input\", [i[0] for i in input], \"output is 0\")\n",
    "    \n",
    "    \"\"\""
   ]
  },
  {
   "cell_type": "markdown",
   "metadata": {},
   "source": [
    "#### Here are the predictions of our trained neural network"
   ]
  },
  {
   "cell_type": "code",
   "execution_count": 110,
   "metadata": {
    "scrolled": false
   },
   "outputs": [
    {
     "name": "stdout",
     "output_type": "stream",
     "text": [
      "For input [1, 0] output is 0.9931009235096205\n",
      "For input [0, 0] output is 0.012396855118152762\n",
      "For input [0, 1] output is 0.001406691179538002\n",
      "For input [1, 1] output is 0.9925129018398693\n"
     ]
    }
   ],
   "source": [
    "test = np.array([[1],[0]])\n",
    "predict(w1,w2,test)\n",
    "test = np.array([[0],[0]])\n",
    "predict(w1,w2,test)\n",
    "test = np.array([[0],[1]])\n",
    "predict(w1,w2,test)\n",
    "test = np.array([[1],[1]])\n",
    "predict(w1,w2,test)"
   ]
  },
  {
   "cell_type": "markdown",
   "metadata": {},
   "source": [
    "# Test"
   ]
  },
  {
   "cell_type": "code",
   "execution_count": 128,
   "metadata": {},
   "outputs": [
    {
     "name": "stdout",
     "output_type": "stream",
     "text": [
      "[[0.4359949  0.54966248]\n",
      " [0.02592623 0.43532239]]\n",
      "[[0.4203678  0.33033482]]\n"
     ]
    }
   ],
   "source": [
    "np.random.seed(2)\n",
    "w1 = np.random.rand(n_h,n_x).T   # Weight matrix for hidden layer\n",
    "w2 = np.random.rand(n_y,n_h)   # Weight matrix for output layer\n",
    "print(w1)\n",
    "print(w2)"
   ]
  },
  {
   "cell_type": "code",
   "execution_count": 129,
   "metadata": {},
   "outputs": [
    {
     "data": {
      "text/plain": [
       "array([[0.59275141, 0.62450682, 0.61469667, 0.60410513]])"
      ]
     },
     "execution_count": 129,
     "metadata": {},
     "output_type": "execute_result"
    }
   ],
   "source": [
    "z1,a1,z2,a2 = forward_prop(w1,w2,x)\n",
    "a2"
   ]
  },
  {
   "cell_type": "code",
   "execution_count": 130,
   "metadata": {},
   "outputs": [
    {
     "data": {
      "text/plain": [
       "array([[ 0.14308852,  0.14644563, -0.09125704, -0.09468306]])"
      ]
     },
     "execution_count": 130,
     "metadata": {},
     "output_type": "execute_result"
    }
   ],
   "source": [
    "dz2 = (a2-y)* a2*(1-a2)\n",
    "dz2"
   ]
  },
  {
   "cell_type": "code",
   "execution_count": 131,
   "metadata": {},
   "outputs": [
    {
     "data": {
      "text/plain": [
       "array([[0.06282664, 0.05799954]])"
      ]
     },
     "execution_count": 131,
     "metadata": {},
     "output_type": "execute_result"
    }
   ],
   "source": [
    "dw2 = np.dot(dz2,a1.T)\n",
    "dw2"
   ]
  },
  {
   "cell_type": "code",
   "execution_count": 132,
   "metadata": {},
   "outputs": [
    {
     "data": {
      "text/plain": [
       "array([[ 0.01503745,  0.01218363, -0.00890097, -0.00949214],\n",
       "       [ 0.01181678,  0.01147291, -0.00719028, -0.00781796]])"
      ]
     },
     "execution_count": 132,
     "metadata": {},
     "output_type": "execute_result"
    }
   ],
   "source": [
    "dz1 = np.dot(w2.T,dz2) * a1*(1-a1)\n",
    "dz1"
   ]
  },
  {
   "cell_type": "code",
   "execution_count": 133,
   "metadata": {},
   "outputs": [
    {
     "data": {
      "text/plain": [
       "array([[0.00269149, 0.00328266],\n",
       "       [0.00365495, 0.00428263]])"
      ]
     },
     "execution_count": 133,
     "metadata": {},
     "output_type": "execute_result"
    }
   ],
   "source": [
    "dw1 = np.dot(dz1,x.T)\n",
    "dw1"
   ]
  },
  {
   "cell_type": "code",
   "execution_count": 134,
   "metadata": {},
   "outputs": [
    {
     "name": "stdout",
     "output_type": "stream",
     "text": [
      "[[0.00269149 0.00328266]\n",
      " [0.00365495 0.00428263]]\n",
      "[[0.06282664 0.05799954]]\n"
     ]
    }
   ],
   "source": [
    "dw1 = np.reshape(dw1,w1.shape)\n",
    "dw2 = np.reshape(dw2,w2.shape) \n",
    "print(dw1)\n",
    "print(dw2)"
   ]
  },
  {
   "cell_type": "code",
   "execution_count": 135,
   "metadata": {},
   "outputs": [],
   "source": [
    "w2 = w2-lr*dw2\n",
    "w1 = w1-lr*dw1"
   ]
  },
  {
   "cell_type": "code",
   "execution_count": 136,
   "metadata": {},
   "outputs": [
    {
     "data": {
      "text/plain": [
       "array([[0.43572575, 0.54933421],\n",
       "       [0.02556074, 0.43489413]])"
      ]
     },
     "execution_count": 136,
     "metadata": {},
     "output_type": "execute_result"
    }
   ],
   "source": [
    "w1"
   ]
  },
  {
   "cell_type": "code",
   "execution_count": 137,
   "metadata": {},
   "outputs": [
    {
     "data": {
      "text/plain": [
       "array([[0.41408514, 0.32453487]])"
      ]
     },
     "execution_count": 137,
     "metadata": {},
     "output_type": "execute_result"
    }
   ],
   "source": [
    "w2"
   ]
  },
  {
   "cell_type": "code",
   "execution_count": null,
   "metadata": {},
   "outputs": [],
   "source": []
  }
 ],
 "metadata": {
  "kernelspec": {
   "display_name": "4Tipe",
   "language": "python",
   "name": "4tipe"
  },
  "language_info": {
   "codemirror_mode": {
    "name": "ipython",
    "version": 3
   },
   "file_extension": ".py",
   "mimetype": "text/x-python",
   "name": "python",
   "nbconvert_exporter": "python",
   "pygments_lexer": "ipython3",
   "version": "3.8.5"
  },
  "varInspector": {
   "cols": {
    "lenName": 16,
    "lenType": 16,
    "lenVar": 40
   },
   "kernels_config": {
    "python": {
     "delete_cmd_postfix": "",
     "delete_cmd_prefix": "del ",
     "library": "var_list.py",
     "varRefreshCmd": "print(var_dic_list())"
    },
    "r": {
     "delete_cmd_postfix": ") ",
     "delete_cmd_prefix": "rm(",
     "library": "var_list.r",
     "varRefreshCmd": "cat(var_dic_list()) "
    }
   },
   "types_to_exclude": [
    "module",
    "function",
    "builtin_function_or_method",
    "instance",
    "_Feature"
   ],
   "window_display": false
  }
 },
 "nbformat": 4,
 "nbformat_minor": 2
}
