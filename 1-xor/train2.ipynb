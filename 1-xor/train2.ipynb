{
 "cells": [
  {
   "cell_type": "code",
   "execution_count": 10,
   "metadata": {},
   "outputs": [],
   "source": [
    "import numpy as np\n",
    "import matplotlib.pyplot as plt"
   ]
  },
  {
   "cell_type": "code",
   "execution_count": 15,
   "metadata": {},
   "outputs": [],
   "source": [
    "train_input = np.array([\n",
    "    [0, 0], [1, 1],\n",
    "    [0, 1], [1, 0]\n",
    "])\n",
    "train_output = np.array([0, 0, 1, 1])"
   ]
  },
  {
   "cell_type": "code",
   "execution_count": 31,
   "metadata": {},
   "outputs": [
    {
     "name": "stdout",
     "output_type": "stream",
     "text": [
      "[[0.4359949  0.02592623]\n",
      " [0.54966248 0.43532239]]\n",
      "[0.4203678  0.33033482]\n"
     ]
    }
   ],
   "source": [
    "np.random.seed(2)\n",
    "\n",
    "w1 = np.random.rand(2, 2)\n",
    "w2 = np.random.rand(2, )\n",
    "\n",
    "w1 = np.array([\n",
    "    [0.4359949,  0.02592623],\n",
    "    [0.54966248, 0.43532239],\n",
    "])\n",
    "w2 = np.array([0.4203678,  0.33033482])\n",
    "\n",
    "\n",
    "sigmoid = lambda x: 1/(1 + np.exp(-x))\n",
    "d_sigmoid = lambda x: x * (1-x)\n",
    "print(w1)\n",
    "print(w2)"
   ]
  },
  {
   "cell_type": "code",
   "execution_count": 33,
   "metadata": {},
   "outputs": [],
   "source": [
    "y1 = np.dot(train_input, w1) # (4, 2) 4 entrées vont vers 2 neuronnes\n",
    "b = sigmoid(y1) # (4, 2) fonction d'activation\n",
    "\n",
    "y2 = np.dot(b, w2) # (4, ) 4 entrées vont vers le neuronne de sortie\n",
    "c = sigmoid(y2) # (4, ) fonction d'activation\n",
    "\n",
    "loss = -(1/4)*np.sum(train_output*np.log(c)+(1-train_output)*np.log(1-c))\n",
    "losses.append(loss)\n",
    "\n",
    "# (4, ) Calcul de l'écart correspondant à (dE/dc)*(dc/dy2)\n",
    "e2 = (c - train_output) * d_sigmoid(c)\n",
    "dw2 = np.dot(e2, b) # (2, ) changement de w2\n",
    "\n",
    "# (4, 2) Calcul de l'écart correspondant à ((dE/dc)*(dc/dy2)) * (dy2/db)*(db/dy1)\n",
    "e1 = np.dot(e2.reshape(4, 1), w2.reshape(1, 2)) * d_sigmoid(b)\n",
    "dw1 = np.dot(e1.T, train_input) # (2, 2) changement de w1\n",
    "\n",
    "w1 -= dw1.T * lr\n",
    "w2 -= dw2 * lr"
   ]
  },
  {
   "cell_type": "code",
   "execution_count": 34,
   "metadata": {},
   "outputs": [
    {
     "data": {
      "text/plain": [
       "array([[0.43572575, 0.02556074],\n",
       "       [0.54933421, 0.43489413]])"
      ]
     },
     "execution_count": 34,
     "metadata": {},
     "output_type": "execute_result"
    }
   ],
   "source": [
    "w1"
   ]
  },
  {
   "cell_type": "code",
   "execution_count": 35,
   "metadata": {},
   "outputs": [
    {
     "data": {
      "text/plain": [
       "array([0.41408514, 0.32453487])"
      ]
     },
     "execution_count": 35,
     "metadata": {},
     "output_type": "execute_result"
    }
   ],
   "source": [
    "w2"
   ]
  },
  {
   "cell_type": "code",
   "execution_count": 26,
   "metadata": {
    "scrolled": false
   },
   "outputs": [
    {
     "data": {
      "text/plain": [
       "Text(0, 0.5, 'Loss value')"
      ]
     },
     "execution_count": 26,
     "metadata": {},
     "output_type": "execute_result"
    },
    {
     "data": {
      "image/png": "[encoded data removed]",
      "text/plain": [
       "<Figure size 432x288 with 1 Axes>"
      ]
     },
     "metadata": {
      "needs_background": "light"
     },
     "output_type": "display_data"
    }
   ],
   "source": [
    "lr = 0.1\n",
    "losses = []\n",
    "for epoch in range(500_000):\n",
    "    y1 = np.dot(train_input, w1) # (4, 2) 4 entrées vont vers 2 neuronnes\n",
    "    b = sigmoid(y1) # (4, 2) fonction d'activation\n",
    "    \n",
    "    y2 = np.dot(b, w2) # (4, ) 4 entrées vont vers le neuronne de sortie\n",
    "    c = sigmoid(y2) # (4, ) fonction d'activation\n",
    "    loss = -(1/4)*np.sum(train_output*np.log(c)+(1-train_output)*np.log(1-c))\n",
    "    losses.append(loss)\n",
    "    \n",
    "    # (4, ) Calcul de l'écart correspondant à (dE/dc)*(dc/dy2)\n",
    "    e2 = (c - train_output) * d_sigmoid(c)\n",
    "    dw2 = np.dot(e2, b) # (2, ) changement de w2\n",
    "    \n",
    "    # (4, 2) Calcul de l'écart correspondant à ((dE/dc)*(dc/dy2)) * (dy2/db)*(db/dy1)\n",
    "    e1 = np.dot(e2.reshape(4, 1), w2.reshape(1, 2)) * d_sigmoid(b)\n",
    "    dw1 = np.dot(e1.T, train_input) # (2, 2) changement de w1\n",
    "    \n",
    "    w1 -= dw1.T * lr\n",
    "    w2 -= dw2 * lr\n",
    "plt.plot(losses)\n",
    "plt.xlabel(\"EPOCHS\")\n",
    "plt.ylabel(\"Loss value\")"
   ]
  },
  {
   "cell_type": "markdown",
   "metadata": {},
   "source": [
    "# Testing"
   ]
  },
  {
   "cell_type": "code",
   "execution_count": 32,
   "metadata": {},
   "outputs": [
    {
     "data": {
      "text/plain": [
       "array([0.59275141, 0.62450681, 0.61469667, 0.60410513])"
      ]
     },
     "execution_count": 32,
     "metadata": {},
     "output_type": "execute_result"
    }
   ],
   "source": [
    "y1 = np.dot(train_input, w1) # (4, 2) 4 entrées vont vers 2 neuronnes\n",
    "b = sigmoid(y1) # (4, 2) fonction d'activation\n",
    "\n",
    "y2 = np.dot(b, w2) # (4, ) 4 entrées vont vers le neuronne de sortie\n",
    "c = sigmoid(y2) # (4, ) fonction d'activation\n",
    "c"
   ]
  },
  {
   "cell_type": "code",
   "execution_count": 5,
   "metadata": {},
   "outputs": [
    {
     "name": "stdout",
     "output_type": "stream",
     "text": [
      "[[0.4359949  0.02592623]\n",
      " [0.54966248 0.43532239]]\n",
      "[0.4203678  0.33033482]\n"
     ]
    }
   ],
   "source": [
    "np.random.seed(2)\n",
    "\n",
    "w1 = np.random.rand(2, 2)\n",
    "w2 = np.random.rand(2, )\n",
    "\n",
    "sigmoid = lambda x: 1/(1 + np.exp(-x))\n",
    "d_sigmoid = lambda x: x * (1-x)\n",
    "print(w1)\n",
    "print(w2)"
   ]
  },
  {
   "cell_type": "code",
   "execution_count": 6,
   "metadata": {},
   "outputs": [],
   "source": [
    "y1 = np.dot(train_input, w1) # (4, 2) 4 entrées vont vers 2 neuronnes\n",
    "b = sigmoid(y1) # (4, 2) fonction d'activation\n",
    "\n",
    "y2 = np.dot(b, w2) # (4, ) 4 entrées vont vers le neuronne de sortie\n",
    "c = sigmoid(y2) # (4, ) fonction d'activation"
   ]
  },
  {
   "cell_type": "code",
   "execution_count": 7,
   "metadata": {},
   "outputs": [
    {
     "data": {
      "text/plain": [
       "array([0.59275141, 0.62450682, 0.61469667, 0.60410513])"
      ]
     },
     "execution_count": 7,
     "metadata": {},
     "output_type": "execute_result"
    }
   ],
   "source": [
    "c"
   ]
  },
  {
   "cell_type": "code",
   "execution_count": 8,
   "metadata": {},
   "outputs": [
    {
     "data": {
      "text/plain": [
       "array([0, 0, 1, 1])"
      ]
     },
     "execution_count": 8,
     "metadata": {},
     "output_type": "execute_result"
    }
   ],
   "source": [
    "train_output"
   ]
  },
  {
   "cell_type": "code",
   "execution_count": 9,
   "metadata": {},
   "outputs": [
    {
     "data": {
      "text/plain": [
       "array([0.24139718, 0.23449805, 0.23684467, 0.23916212])"
      ]
     },
     "execution_count": 9,
     "metadata": {},
     "output_type": "execute_result"
    }
   ],
   "source": [
    "d_sigmoid(c)"
   ]
  },
  {
   "cell_type": "code",
   "execution_count": 10,
   "metadata": {},
   "outputs": [
    {
     "name": "stdout",
     "output_type": "stream",
     "text": [
      "[ 0.14308852  0.14644563 -0.09125704 -0.09468306]\n"
     ]
    }
   ],
   "source": [
    "# (4, ) Calcul de l'écart correspondant à (dE/dc)*(dc/dy2)\n",
    "e2 = (c - train_output) * d_sigmoid(c)\n",
    "print(e2)"
   ]
  },
  {
   "cell_type": "code",
   "execution_count": 11,
   "metadata": {},
   "outputs": [
    {
     "data": {
      "text/plain": [
       "array([0.06282664, 0.05799954])"
      ]
     },
     "execution_count": 11,
     "metadata": {},
     "output_type": "execute_result"
    }
   ],
   "source": [
    "dw2 = np.dot(e2, b) # (2, ) changement de w2\n",
    "dw2"
   ]
  },
  {
   "cell_type": "code",
   "execution_count": 12,
   "metadata": {},
   "outputs": [
    {
     "data": {
      "text/plain": [
       "array([[ 0.01503745,  0.01181678],\n",
       "       [ 0.01218363,  0.01147291],\n",
       "       [-0.00890097, -0.00719028],\n",
       "       [-0.00949214, -0.00781796]])"
      ]
     },
     "execution_count": 12,
     "metadata": {},
     "output_type": "execute_result"
    }
   ],
   "source": [
    "# (4, 2) Calcul de l'écart correspondant à ((dE/dc)*(dc/dy2)) * (dy2/db)*(db/dy1)\n",
    "e1 = np.dot(e2.reshape(4, 1), w2.reshape(1, 2)) * d_sigmoid(b)\n",
    "e1"
   ]
  },
  {
   "cell_type": "code",
   "execution_count": 13,
   "metadata": {},
   "outputs": [
    {
     "data": {
      "text/plain": [
       "array([[0.00269149, 0.00328266],\n",
       "       [0.00365495, 0.00428263]])"
      ]
     },
     "execution_count": 13,
     "metadata": {},
     "output_type": "execute_result"
    }
   ],
   "source": [
    "dw1 = np.dot(e1.T, train_input) # (2, 2) changement de w1\n",
    "dw1"
   ]
  },
  {
   "cell_type": "code",
   "execution_count": 14,
   "metadata": {},
   "outputs": [],
   "source": [
    "w1 -= dw1.T * lr\n",
    "w2 -= dw2 * lr"
   ]
  },
  {
   "cell_type": "code",
   "execution_count": 15,
   "metadata": {},
   "outputs": [
    {
     "data": {
      "text/plain": [
       "array([[0.43572575, 0.02556074],\n",
       "       [0.54933421, 0.43489413]])"
      ]
     },
     "execution_count": 15,
     "metadata": {},
     "output_type": "execute_result"
    }
   ],
   "source": [
    "w1"
   ]
  },
  {
   "cell_type": "code",
   "execution_count": 16,
   "metadata": {},
   "outputs": [
    {
     "data": {
      "text/plain": [
       "array([0.41408514, 0.32453487])"
      ]
     },
     "execution_count": 16,
     "metadata": {},
     "output_type": "execute_result"
    }
   ],
   "source": [
    "w2"
   ]
  },
  {
   "cell_type": "code",
   "execution_count": 48,
   "metadata": {},
   "outputs": [],
   "source": [
    "def liste_to_matrix(L):\n",
    "    for i in range(len(L)):\n",
    "        print(\" & \".join([str(x) for x in L[i]]), end=\" \\\\\\\\ \\n\")\n",
    "        "
   ]
  },
  {
   "cell_type": "code",
   "execution_count": 49,
   "metadata": {},
   "outputs": [],
   "source": [
    "train_input  = [\n",
    "    [0, 0],\n",
    "    [0, 1],\n",
    "    [1, 0],\n",
    "    [1, 1]\n",
    "]"
   ]
  },
  {
   "cell_type": "code",
   "execution_count": 55,
   "metadata": {},
   "outputs": [
    {
     "name": "stdout",
     "output_type": "stream",
     "text": [
      "0.121174 \\\\ \n",
      "0.81416403 \\\\ \n",
      "0.81415036 \\\\ \n",
      "0.24479818 \\\\ \n"
     ]
    }
   ],
   "source": [
    "liste_to_matrix([[0.121174  ],\n",
    " [0.81416403],\n",
    " [0.81415036],\n",
    " [0.24479818]])"
   ]
  },
  {
   "cell_type": "code",
   "execution_count": null,
   "metadata": {},
   "outputs": [],
   "source": []
  }
 ],
 "metadata": {
  "kernelspec": {
   "display_name": "4Tipe",
   "language": "python",
   "name": "4tipe"
  },
  "language_info": {
   "codemirror_mode": {
    "name": "ipython",
    "version": 3
   },
   "file_extension": ".py",
   "mimetype": "text/x-python",
   "name": "python",
   "nbconvert_exporter": "python",
   "pygments_lexer": "ipython3",
   "version": "3.8.10"
  },
  "toc": {
   "base_numbering": 1,
   "nav_menu": {},
   "number_sections": true,
   "sideBar": true,
   "skip_h1_title": true,
   "title_cell": "Table of Contents",
   "title_sidebar": "Contents",
   "toc_cell": false,
   "toc_position": {},
   "toc_section_display": true,
   "toc_window_display": false
  },
  "varInspector": {
   "cols": {
    "lenName": 16,
    "lenType": 16,
    "lenVar": 40
   },
   "kernels_config": {
    "python": {
     "delete_cmd_postfix": "",
     "delete_cmd_prefix": "del ",
     "library": "var_list.py",
     "varRefreshCmd": "print(var_dic_list())"
    },
    "r": {
     "delete_cmd_postfix": ") ",
     "delete_cmd_prefix": "rm(",
     "library": "var_list.r",
     "varRefreshCmd": "cat(var_dic_list()) "
    }
   },
   "types_to_exclude": [
    "module",
    "function",
    "builtin_function_or_method",
    "instance",
    "_Feature"
   ],
   "window_display": false
  }
 },
 "nbformat": 4,
 "nbformat_minor": 5
}
