{
 "cells": [
  {
   "cell_type": "markdown",
   "id": "modified-peoples",
   "metadata": {},
   "source": [
    "https://mlfromscratch.com/neural-network-tutorial/#/\n",
    "\n",
    "fonctionne bien"
   ]
  },
  {
   "cell_type": "code",
   "execution_count": 1,
   "id": "hairy-complex",
   "metadata": {},
   "outputs": [],
   "source": [
    "import tensorflow as tf\n",
    "import matplotlib.pyplot as plt\n",
    "import numpy as np\n",
    "import time, pickle"
   ]
  },
  {
   "cell_type": "code",
   "execution_count": 2,
   "id": "settled-threshold",
   "metadata": {},
   "outputs": [],
   "source": [
    "(X_train, Y_train), (X_test, Y_test) = tf.keras.datasets.mnist.load_data()\n",
    "\n",
    "y_train = np.zeros((len(Y_train), 10))\n",
    "y_train[np.arange(len(Y_train)), Y_train] = 1 # to categorical\n",
    "y_test = np.zeros((len(Y_test), 10))\n",
    "y_test[np.arange(len(Y_test)), Y_test] = 1 # to categorical\n",
    "\n",
    "x_train = X_train.reshape(len(X_train), 28*28)/255 # 28*28 = 784\n",
    "x_test = X_test.reshape(len(X_test), 28*28)/255"
   ]
  },
  {
   "cell_type": "code",
   "execution_count": 3,
   "id": "attended-freeze",
   "metadata": {},
   "outputs": [],
   "source": [
    "class DeepNeuralNetwork():\n",
    "    def __init__(self, sizes, epochs=10, l_rate=0.001):\n",
    "        self.sizes = sizes\n",
    "        self.epochs = epochs\n",
    "        self.l_rate = l_rate\n",
    "\n",
    "        # we save all parameters in the neural network in this dictionary\n",
    "        self.params = self.initialization()\n",
    "\n",
    "    def sigmoid(self, x, derivative=False):\n",
    "        if derivative:\n",
    "            return (np.exp(-x))/((np.exp(-x)+1)**2)\n",
    "        return 1/(1 + np.exp(-x))\n",
    "\n",
    "    def softmax(self, x, derivative=False):\n",
    "        # Numerically stable with large exponentials\n",
    "        exps = np.exp(x - x.max())\n",
    "        if derivative:\n",
    "            return exps / np.sum(exps, axis=0) * (1 - exps / np.sum(exps, axis=0))\n",
    "        return exps / np.sum(exps, axis=0)\n",
    "\n",
    "    def initialization(self):\n",
    "        # number of nodes in each layer\n",
    "        input_layer=self.sizes[0]\n",
    "        hidden_1=self.sizes[1]\n",
    "        hidden_2=self.sizes[2]\n",
    "        output_layer=self.sizes[3]\n",
    "        \"\"\"\n",
    "        params = {\n",
    "            'W1':np.random.randn(hidden_1, input_layer) * np.sqrt(1. / hidden_1),\n",
    "            'W2':np.random.randn(hidden_2, hidden_1) * np.sqrt(1. / hidden_2),\n",
    "            'W3':np.random.randn(output_layer, hidden_2) * np.sqrt(1. / output_layer)\n",
    "        }\n",
    "        \"\"\"\n",
    "        params = {\n",
    "            'W1':np.random.randn(input_layer, hidden_1).T,\n",
    "            'W2':np.random.randn(hidden_1, hidden_2).T,\n",
    "            'W3':np.random.randn(hidden_2, output_layer).T,\n",
    "        }\n",
    "        return params\n",
    "\n",
    "    def forward_pass(self, x_train):\n",
    "        params = self.params\n",
    "\n",
    "        # input layer activations becomes sample\n",
    "        params['A0'] = x_train\n",
    "\n",
    "        # input layer to hidden layer 1\n",
    "        params['Z1'] = np.dot(params[\"W1\"], params['A0'])\n",
    "        params['A1'] = self.sigmoid(params['Z1'])\n",
    "\n",
    "        # hidden layer 1 to hidden layer 2\n",
    "        params['Z2'] = np.dot(params[\"W2\"], params['A1'])\n",
    "        params['A2'] = self.sigmoid(params['Z2'])\n",
    "\n",
    "        # hidden layer 2 to output layer\n",
    "        params['Z3'] = np.dot(params[\"W3\"], params['A2'])\n",
    "        params['A3'] = self.softmax(params['Z3'])\n",
    "\n",
    "        return params['A3']\n",
    "\n",
    "    def backward_pass(self, y_train, output):\n",
    "        '''\n",
    "            This is the backpropagation algorithm, for calculating the updates\n",
    "            of the neural network's parameters.\n",
    "\n",
    "            Note: There is a stability issue that causes warnings. This is \n",
    "                  caused  by the dot and multiply operations on the huge arrays.\n",
    "                  \n",
    "                  RuntimeWarning: invalid value encountered in true_divide\n",
    "                  RuntimeWarning: overflow encountered in exp\n",
    "                  RuntimeWarning: overflow encountered in square\n",
    "        '''\n",
    "        params = self.params\n",
    "        change_w = {}\n",
    "\n",
    "        # Calculate W3 update\n",
    "        error = 2 * (output - y_train) / output.shape[0] * self.softmax(params['Z3'], derivative=True)\n",
    "        change_w['W3'] = np.outer(error, params['A2'])\n",
    "\n",
    "        # Calculate W2 update\n",
    "        error = np.dot(params['W3'].T, error) * self.sigmoid(params['Z2'], derivative=True)\n",
    "        change_w['W2'] = np.outer(error, params['A1'])\n",
    "\n",
    "        # Calculate W1 update\n",
    "        error = np.dot(params['W2'].T, error) * self.sigmoid(params['Z1'], derivative=True)\n",
    "        change_w['W1'] = np.outer(error, params['A0'])\n",
    "\n",
    "        return change_w\n",
    "\n",
    "    def update_network_parameters(self, changes_to_w):\n",
    "        '''\n",
    "            Update network parameters according to update rule from\n",
    "            Stochastic Gradient Descent.\n",
    "\n",
    "            θ = θ - η * ∇J(x, y), \n",
    "                theta θ:            a network parameter (e.g. a weight w)\n",
    "                eta η:              the learning rate\n",
    "                gradient ∇J(x, y):  the gradient of the objective function,\n",
    "                                    i.e. the change for a specific theta θ\n",
    "        '''\n",
    "        \n",
    "        for key, value in changes_to_w.items():\n",
    "            self.params[key] -= self.l_rate * value\n",
    "\n",
    "    def compute_accuracy(self, x_val, y_val):\n",
    "        '''\n",
    "            This function does a forward pass of x, then checks if the indices\n",
    "            of the maximum value in the output equals the indices in the label\n",
    "            y. Then it sums over each prediction and calculates the accuracy.\n",
    "        '''\n",
    "        predictions = []\n",
    "\n",
    "        for x, y in zip(x_val, y_val):\n",
    "            output = self.forward_pass(x)\n",
    "            pred = np.argmax(output)\n",
    "            predictions.append(pred == np.argmax(y))\n",
    "        \n",
    "        return np.mean(predictions)\n",
    "\n",
    "    def train(self, x_train, y_train, x_val, y_val):\n",
    "        start_time = time.time()\n",
    "        for iteration in range(self.epochs):\n",
    "            for x,y in zip(x_train, y_train):\n",
    "                output = self.forward_pass(x)\n",
    "                changes_to_w = self.backward_pass(y, output)\n",
    "                self.update_network_parameters(changes_to_w)\n",
    "            \n",
    "            accuracy = self.compute_accuracy(x_val, y_val)\n",
    "            print('Epoch: {0}, Time Spent: {1:.2f}s, Accuracy: {2:.2f}%'.format(\n",
    "                iteration+1, time.time() - start_time, accuracy * 100\n",
    "            ))\n",
    "            "
   ]
  },
  {
   "cell_type": "code",
   "execution_count": 8,
   "id": "protective-sudan",
   "metadata": {},
   "outputs": [],
   "source": [
    "np.random.seed(2)\n",
    "dnn = DeepNeuralNetwork(sizes=[784, 10, 10, 10])"
   ]
  },
  {
   "cell_type": "code",
   "execution_count": 9,
   "id": "thermal-breakfast",
   "metadata": {
    "scrolled": true
   },
   "outputs": [
    {
     "data": {
      "text/plain": [
       "array([[-0.41675785,  0.55145404, -0.87810789, ...,  1.4727013 ,\n",
       "        -1.60114207, -1.64159138],\n",
       "       [-0.05626683,  2.29220801, -0.15643417, ..., -0.14456274,\n",
       "        -0.30700111,  0.19158689],\n",
       "       [-2.1361961 ,  0.04153939,  0.25657045, ...,  0.164019  ,\n",
       "         2.14274191, -0.11460511],\n",
       "       ...,\n",
       "       [-1.24528809,  1.17500122, -1.18761229, ...,  1.21832296,\n",
       "         0.81862276,  0.48926351],\n",
       "       [-1.05795222, -0.74787095, -1.42121723, ..., -0.71507341,\n",
       "         0.544028  ,  2.20785441],\n",
       "       [-0.90900761,  0.00902525, -0.1534952 , ..., -1.65578878,\n",
       "        -0.7790203 , -0.77941336]])"
      ]
     },
     "execution_count": 9,
     "metadata": {},
     "output_type": "execute_result"
    }
   ],
   "source": [
    "dnn.params['W1']"
   ]
  },
  {
   "cell_type": "markdown",
   "id": "strong-abraham",
   "metadata": {},
   "source": [
    "# Verification"
   ]
  },
  {
   "cell_type": "code",
   "execution_count": 35,
   "id": "greenhouse-madness",
   "metadata": {
    "scrolled": false
   },
   "outputs": [
    {
     "data": {
      "text/plain": [
       "array([5.43831768e-01, 1.32677113e-01, 1.00368587e-01, 3.41731638e-02,\n",
       "       1.06815841e-04, 1.34917825e-01, 1.46683394e-02, 6.29792550e-03,\n",
       "       3.38761057e-03, 2.95708513e-02])"
      ]
     },
     "execution_count": 35,
     "metadata": {},
     "output_type": "execute_result"
    }
   ],
   "source": [
    "output = dnn.forward_pass(x_train[0])\n",
    "output # 1"
   ]
  },
  {
   "cell_type": "code",
   "execution_count": 36,
   "id": "continent-factory",
   "metadata": {
    "scrolled": true
   },
   "outputs": [
    {
     "data": {
      "text/plain": [
       "array([ 1.08766354e-01,  2.65354225e-02,  2.00737174e-02,  6.83463277e-03,\n",
       "        2.13631682e-05, -1.73016435e-01,  2.93366788e-03,  1.25958510e-03,\n",
       "        6.77522113e-04,  5.91417027e-03])"
      ]
     },
     "execution_count": 36,
     "metadata": {},
     "output_type": "execute_result"
    }
   ],
   "source": [
    "2 * (output - y_train[0]) / output.shape[0] # 2"
   ]
  },
  {
   "cell_type": "code",
   "execution_count": 41,
   "id": "under-flower",
   "metadata": {
    "scrolled": true
   },
   "outputs": [
    {
     "data": {
      "text/plain": [
       "array([ 2.44929731,  1.03857581,  0.75950664, -0.31790199, -6.08599168,\n",
       "        1.05532325, -1.16365126, -2.00912235, -2.62921782, -0.46255352])"
      ]
     },
     "execution_count": 41,
     "metadata": {},
     "output_type": "execute_result"
    }
   ],
   "source": [
    "params['Z3'] # 3"
   ]
  },
  {
   "cell_type": "code",
   "execution_count": 40,
   "id": "acquired-inside",
   "metadata": {
    "scrolled": false
   },
   "outputs": [
    {
     "data": {
      "text/plain": [
       "array([2.48078776e-01, 1.15073896e-01, 9.02947339e-02, 3.30053587e-02,\n",
       "       1.06804431e-04, 1.16715006e-01, 1.44531792e-02, 6.25826163e-03,\n",
       "       3.37613466e-03, 2.86964161e-02])"
      ]
     },
     "execution_count": 40,
     "metadata": {},
     "output_type": "execute_result"
    }
   ],
   "source": [
    "dnn.softmax(params['Z3'], derivative=True) #4"
   ]
  },
  {
   "cell_type": "code",
   "execution_count": 50,
   "id": "attractive-burton",
   "metadata": {
    "scrolled": true
   },
   "outputs": [
    {
     "data": {
      "text/plain": [
       "array([[ 2.69826239e-02,  3.05353446e-03,  1.81255097e-03,\n",
       "         2.25579506e-04,  2.28168103e-09, -2.01936142e-02,\n",
       "         4.24008275e-05,  7.88281310e-06,  2.28740589e-06,\n",
       "         1.69715491e-04]])"
      ]
     },
     "execution_count": 50,
     "metadata": {},
     "output_type": "execute_result"
    }
   ],
   "source": [
    "# changes_to_w = dnn.backward_pass(y, output)\n",
    "params = dnn.params\n",
    "change_w = {}\n",
    "error = 2 * (output - [y_train[0]]) / output.shape[0] * dnn.softmax(params['Z3'], derivative=True)\n",
    "error #5"
   ]
  },
  {
   "cell_type": "code",
   "execution_count": 46,
   "id": "cosmetic-individual",
   "metadata": {},
   "outputs": [
    {
     "data": {
      "text/plain": [
       "array([[ 2.69826239e-02,  3.05353446e-03,  1.81255097e-03,\n",
       "         2.25579506e-04,  2.28168103e-09, -2.01936142e-02,\n",
       "         4.24008275e-05,  7.88281310e-06,  2.28740589e-06,\n",
       "         1.69715491e-04]])"
      ]
     },
     "execution_count": 46,
     "metadata": {},
     "output_type": "execute_result"
    }
   ],
   "source": [
    "error"
   ]
  },
  {
   "cell_type": "code",
   "execution_count": 47,
   "id": "enhanced-flash",
   "metadata": {
    "collapsed": true
   },
   "outputs": [
    {
     "data": {
      "text/plain": [
       "array([[ 2.25441705e-02,  4.68574686e-03,  1.31316215e-02,\n",
       "         2.08465859e-02,  2.33790104e-02,  1.19669092e-02,\n",
       "         9.28695328e-03,  1.46931212e-02,  1.23298505e-02,\n",
       "         5.99066073e-03],\n",
       "       [ 2.55124935e-03,  5.30270502e-04,  1.48606225e-03,\n",
       "         2.35913930e-03,  2.64572542e-03,  1.35425561e-03,\n",
       "         1.05097384e-03,  1.66277201e-03,  1.39532847e-03,\n",
       "         6.77943296e-04],\n",
       "       [ 1.51439898e-03,  3.14763867e-04,  8.82113374e-04,\n",
       "         1.40036417e-03,  1.57047914e-03,  8.03874118e-04,\n",
       "         6.23848750e-04,  9.87006720e-04,  8.28254604e-04,\n",
       "         4.02421128e-04],\n",
       "       [ 1.88473251e-04,  3.91736722e-05,  1.09782678e-04,\n",
       "         1.74281144e-04,  1.95452660e-04,  1.00045477e-04,\n",
       "         7.76405713e-05,  1.22837091e-04,  1.03079730e-04,\n",
       "         5.00829829e-05],\n",
       "       [ 1.90636042e-09,  3.96232025e-10,  1.11042469e-09,\n",
       "         1.76281075e-09,  1.97695541e-09,  1.01193531e-09,\n",
       "         7.85315215e-10,  1.24246685e-09,  1.04262602e-09,\n",
       "         5.06577010e-10],\n",
       "       [-1.68719055e-02, -3.50678143e-03, -9.82761722e-03,\n",
       "        -1.56014447e-02, -1.74966941e-02, -8.95595437e-03,\n",
       "        -6.95029335e-03, -1.09962331e-02, -9.22757714e-03,\n",
       "        -4.48337019e-03],\n",
       "       [ 3.54261872e-05,  7.36324033e-06,  2.06351918e-05,\n",
       "         3.27585819e-05,  3.67380649e-05,  1.88049486e-05,\n",
       "         1.45936328e-05,  2.30889516e-05,  1.93752789e-05,\n",
       "         9.41379806e-06],\n",
       "       [ 6.58614534e-06,  1.36891308e-06,  3.83632514e-06,\n",
       "         6.09020610e-06,  6.83003884e-06,  3.49606137e-06,\n",
       "         2.71312817e-06,  4.29250797e-06,  3.60209249e-06,\n",
       "         1.75013590e-06],\n",
       "       [ 1.91114358e-06,  3.97226193e-07,  1.11321080e-06,\n",
       "         1.76723374e-06,  1.98191571e-06,  1.01447431e-06,\n",
       "         7.87285614e-07,  1.24558427e-06,  1.04524203e-06,\n",
       "         5.07848039e-07],\n",
       "       [ 1.41798477e-04,  2.94724424e-05,  8.25953622e-05,\n",
       "         1.31120998e-04,  1.47049458e-04,  7.52695469e-05,\n",
       "         5.84131417e-05,  9.24168933e-05,  7.75523771e-05,\n",
       "         3.76800985e-05]])"
      ]
     },
     "execution_count": 47,
     "metadata": {},
     "output_type": "execute_result"
    }
   ],
   "source": [
    "change_w['W3'] = np.outer(error, params['A2'])\n",
    "change_w['W3'] #6"
   ]
  },
  {
   "cell_type": "code",
   "execution_count": 53,
   "id": "empty-leone",
   "metadata": {},
   "outputs": [
    {
     "data": {
      "text/plain": [
       "array([-0.00249508, -0.014638  ,  0.02224066,  0.0340381 ,  0.01014477,\n",
       "       -0.00048623,  0.02989711, -0.02649568,  0.02300101,  0.00748875])"
      ]
     },
     "execution_count": 53,
     "metadata": {},
     "output_type": "execute_result"
    }
   ],
   "source": [
    "# Calculate W2 update\n",
    "error2 = np.dot(params['W3'].T, error[0])\n",
    "error2"
   ]
  },
  {
   "cell_type": "code",
   "execution_count": null,
   "id": "civic-likelihood",
   "metadata": {},
   "outputs": [],
   "source": [
    "change_w['W2'] = np.outer(error, params['A1'])\n",
    "\n",
    "# Calculate W1 update\n",
    "error = np.dot(params['W2'].T, error) * self.sigmoid(params['Z1'], derivative=True)\n",
    "change_w['W1'] = np.outer(error, params['A0'])"
   ]
  },
  {
   "cell_type": "code",
   "execution_count": 10,
   "id": "supposed-train",
   "metadata": {
    "scrolled": true
   },
   "outputs": [
    {
     "data": {
      "text/plain": [
       "array([5.75319467e-01, 1.72149748e-01, 4.32182637e-02, 2.85778106e-02,\n",
       "       3.22550384e-04, 1.43870561e-01, 1.65589648e-02, 1.84693293e-03,\n",
       "       3.61449840e-03, 1.45212040e-02])"
      ]
     },
     "execution_count": 10,
     "metadata": {},
     "output_type": "execute_result"
    }
   ],
   "source": [
    "dnn.update_network_parameters(changes_to_w)"
   ]
  },
  {
   "cell_type": "code",
   "execution_count": null,
   "id": "handled-ribbon",
   "metadata": {},
   "outputs": [],
   "source": []
  },
  {
   "cell_type": "code",
   "execution_count": null,
   "id": "formal-savage",
   "metadata": {},
   "outputs": [],
   "source": []
  },
  {
   "cell_type": "code",
   "execution_count": null,
   "id": "quiet-miami",
   "metadata": {},
   "outputs": [],
   "source": []
  },
  {
   "cell_type": "code",
   "execution_count": null,
   "id": "referenced-chapel",
   "metadata": {},
   "outputs": [],
   "source": []
  },
  {
   "cell_type": "code",
   "execution_count": 7,
   "id": "sudden-finish",
   "metadata": {
    "scrolled": true
   },
   "outputs": [
    {
     "name": "stdout",
     "output_type": "stream",
     "text": [
      "Epoch: 1, Time Spent: 10.82s, Accuracy: 10.96%\n",
      "Epoch: 2, Time Spent: 21.51s, Accuracy: 14.20%\n"
     ]
    },
    {
     "ename": "KeyboardInterrupt",
     "evalue": "",
     "output_type": "error",
     "traceback": [
      "\u001b[0;31m---------------------------------------------------------------------------\u001b[0m",
      "\u001b[0;31mKeyboardInterrupt\u001b[0m                         Traceback (most recent call last)",
      "\u001b[0;32m<ipython-input-7-481b6ee3d9c7>\u001b[0m in \u001b[0;36m<module>\u001b[0;34m\u001b[0m\n\u001b[1;32m      1\u001b[0m \u001b[0mdnn\u001b[0m\u001b[0;34m.\u001b[0m\u001b[0mepochs\u001b[0m \u001b[0;34m=\u001b[0m \u001b[0;36m100\u001b[0m\u001b[0;34m\u001b[0m\u001b[0;34m\u001b[0m\u001b[0m\n\u001b[0;32m----> 2\u001b[0;31m \u001b[0mdnn\u001b[0m\u001b[0;34m.\u001b[0m\u001b[0mtrain\u001b[0m\u001b[0;34m(\u001b[0m\u001b[0mx_train\u001b[0m\u001b[0;34m,\u001b[0m \u001b[0my_train\u001b[0m\u001b[0;34m,\u001b[0m \u001b[0mx_test\u001b[0m\u001b[0;34m,\u001b[0m \u001b[0my_test\u001b[0m\u001b[0;34m)\u001b[0m\u001b[0;34m\u001b[0m\u001b[0;34m\u001b[0m\u001b[0m\n\u001b[0m",
      "\u001b[0;32m<ipython-input-3-23cd19ce6f1e>\u001b[0m in \u001b[0;36mtrain\u001b[0;34m(self, x_train, y_train, x_val, y_val)\u001b[0m\n\u001b[1;32m    124\u001b[0m             \u001b[0;32mfor\u001b[0m \u001b[0mx\u001b[0m\u001b[0;34m,\u001b[0m\u001b[0my\u001b[0m \u001b[0;32min\u001b[0m \u001b[0mzip\u001b[0m\u001b[0;34m(\u001b[0m\u001b[0mx_train\u001b[0m\u001b[0;34m,\u001b[0m \u001b[0my_train\u001b[0m\u001b[0;34m)\u001b[0m\u001b[0;34m:\u001b[0m\u001b[0;34m\u001b[0m\u001b[0;34m\u001b[0m\u001b[0m\n\u001b[1;32m    125\u001b[0m                 \u001b[0moutput\u001b[0m \u001b[0;34m=\u001b[0m \u001b[0mself\u001b[0m\u001b[0;34m.\u001b[0m\u001b[0mforward_pass\u001b[0m\u001b[0;34m(\u001b[0m\u001b[0mx\u001b[0m\u001b[0;34m)\u001b[0m\u001b[0;34m\u001b[0m\u001b[0;34m\u001b[0m\u001b[0m\n\u001b[0;32m--> 126\u001b[0;31m                 \u001b[0mchanges_to_w\u001b[0m \u001b[0;34m=\u001b[0m \u001b[0mself\u001b[0m\u001b[0;34m.\u001b[0m\u001b[0mbackward_pass\u001b[0m\u001b[0;34m(\u001b[0m\u001b[0my\u001b[0m\u001b[0;34m,\u001b[0m \u001b[0moutput\u001b[0m\u001b[0;34m)\u001b[0m\u001b[0;34m\u001b[0m\u001b[0;34m\u001b[0m\u001b[0m\n\u001b[0m\u001b[1;32m    127\u001b[0m                 \u001b[0mself\u001b[0m\u001b[0;34m.\u001b[0m\u001b[0mupdate_network_parameters\u001b[0m\u001b[0;34m(\u001b[0m\u001b[0mchanges_to_w\u001b[0m\u001b[0;34m)\u001b[0m\u001b[0;34m\u001b[0m\u001b[0;34m\u001b[0m\u001b[0m\n\u001b[1;32m    128\u001b[0m \u001b[0;34m\u001b[0m\u001b[0m\n",
      "\u001b[0;32m<ipython-input-3-23cd19ce6f1e>\u001b[0m in \u001b[0;36mbackward_pass\u001b[0;34m(self, y_train, output)\u001b[0m\n\u001b[1;32m     80\u001b[0m \u001b[0;34m\u001b[0m\u001b[0m\n\u001b[1;32m     81\u001b[0m         \u001b[0;31m# Calculate W2 update\u001b[0m\u001b[0;34m\u001b[0m\u001b[0;34m\u001b[0m\u001b[0;34m\u001b[0m\u001b[0m\n\u001b[0;32m---> 82\u001b[0;31m         \u001b[0merror\u001b[0m \u001b[0;34m=\u001b[0m \u001b[0mnp\u001b[0m\u001b[0;34m.\u001b[0m\u001b[0mdot\u001b[0m\u001b[0;34m(\u001b[0m\u001b[0mparams\u001b[0m\u001b[0;34m[\u001b[0m\u001b[0;34m'W3'\u001b[0m\u001b[0;34m]\u001b[0m\u001b[0;34m.\u001b[0m\u001b[0mT\u001b[0m\u001b[0;34m,\u001b[0m \u001b[0merror\u001b[0m\u001b[0;34m)\u001b[0m \u001b[0;34m*\u001b[0m \u001b[0mself\u001b[0m\u001b[0;34m.\u001b[0m\u001b[0msigmoid\u001b[0m\u001b[0;34m(\u001b[0m\u001b[0mparams\u001b[0m\u001b[0;34m[\u001b[0m\u001b[0;34m'Z2'\u001b[0m\u001b[0;34m]\u001b[0m\u001b[0;34m,\u001b[0m \u001b[0mderivative\u001b[0m\u001b[0;34m=\u001b[0m\u001b[0;32mTrue\u001b[0m\u001b[0;34m)\u001b[0m\u001b[0;34m\u001b[0m\u001b[0;34m\u001b[0m\u001b[0m\n\u001b[0m\u001b[1;32m     83\u001b[0m         \u001b[0mchange_w\u001b[0m\u001b[0;34m[\u001b[0m\u001b[0;34m'W2'\u001b[0m\u001b[0;34m]\u001b[0m \u001b[0;34m=\u001b[0m \u001b[0mnp\u001b[0m\u001b[0;34m.\u001b[0m\u001b[0mouter\u001b[0m\u001b[0;34m(\u001b[0m\u001b[0merror\u001b[0m\u001b[0;34m,\u001b[0m \u001b[0mparams\u001b[0m\u001b[0;34m[\u001b[0m\u001b[0;34m'A1'\u001b[0m\u001b[0;34m]\u001b[0m\u001b[0;34m)\u001b[0m\u001b[0;34m\u001b[0m\u001b[0;34m\u001b[0m\u001b[0m\n\u001b[1;32m     84\u001b[0m \u001b[0;34m\u001b[0m\u001b[0m\n",
      "\u001b[0;32m<ipython-input-3-23cd19ce6f1e>\u001b[0m in \u001b[0;36msigmoid\u001b[0;34m(self, x, derivative)\u001b[0m\n\u001b[1;32m     10\u001b[0m     \u001b[0;32mdef\u001b[0m \u001b[0msigmoid\u001b[0m\u001b[0;34m(\u001b[0m\u001b[0mself\u001b[0m\u001b[0;34m,\u001b[0m \u001b[0mx\u001b[0m\u001b[0;34m,\u001b[0m \u001b[0mderivative\u001b[0m\u001b[0;34m=\u001b[0m\u001b[0;32mFalse\u001b[0m\u001b[0;34m)\u001b[0m\u001b[0;34m:\u001b[0m\u001b[0;34m\u001b[0m\u001b[0;34m\u001b[0m\u001b[0m\n\u001b[1;32m     11\u001b[0m         \u001b[0;32mif\u001b[0m \u001b[0mderivative\u001b[0m\u001b[0;34m:\u001b[0m\u001b[0;34m\u001b[0m\u001b[0;34m\u001b[0m\u001b[0m\n\u001b[0;32m---> 12\u001b[0;31m             \u001b[0;32mreturn\u001b[0m \u001b[0;34m(\u001b[0m\u001b[0mnp\u001b[0m\u001b[0;34m.\u001b[0m\u001b[0mexp\u001b[0m\u001b[0;34m(\u001b[0m\u001b[0;34m-\u001b[0m\u001b[0mx\u001b[0m\u001b[0;34m)\u001b[0m\u001b[0;34m)\u001b[0m\u001b[0;34m/\u001b[0m\u001b[0;34m(\u001b[0m\u001b[0;34m(\u001b[0m\u001b[0mnp\u001b[0m\u001b[0;34m.\u001b[0m\u001b[0mexp\u001b[0m\u001b[0;34m(\u001b[0m\u001b[0;34m-\u001b[0m\u001b[0mx\u001b[0m\u001b[0;34m)\u001b[0m\u001b[0;34m+\u001b[0m\u001b[0;36m1\u001b[0m\u001b[0;34m)\u001b[0m\u001b[0;34m**\u001b[0m\u001b[0;36m2\u001b[0m\u001b[0;34m)\u001b[0m\u001b[0;34m\u001b[0m\u001b[0;34m\u001b[0m\u001b[0m\n\u001b[0m\u001b[1;32m     13\u001b[0m         \u001b[0;32mreturn\u001b[0m \u001b[0;36m1\u001b[0m\u001b[0;34m/\u001b[0m\u001b[0;34m(\u001b[0m\u001b[0;36m1\u001b[0m \u001b[0;34m+\u001b[0m \u001b[0mnp\u001b[0m\u001b[0;34m.\u001b[0m\u001b[0mexp\u001b[0m\u001b[0;34m(\u001b[0m\u001b[0;34m-\u001b[0m\u001b[0mx\u001b[0m\u001b[0;34m)\u001b[0m\u001b[0;34m)\u001b[0m\u001b[0;34m\u001b[0m\u001b[0;34m\u001b[0m\u001b[0m\n\u001b[1;32m     14\u001b[0m \u001b[0;34m\u001b[0m\u001b[0m\n",
      "\u001b[0;31mKeyboardInterrupt\u001b[0m: "
     ]
    }
   ],
   "source": [
    "dnn.epochs = 2\n",
    "dnn.train(x_train, y_train, x_test, y_test)"
   ]
  },
  {
   "cell_type": "code",
   "execution_count": 37,
   "id": "driving-confidentiality",
   "metadata": {
    "scrolled": true
   },
   "outputs": [
    {
     "data": {
      "text/plain": [
       "<matplotlib.image.AxesImage at 0x7f9681967190>"
      ]
     },
     "execution_count": 37,
     "metadata": {},
     "output_type": "execute_result"
    },
    {
     "data": {
      "image/png": "[encoded data removed]",
      "text/plain": [
       "<Figure size 432x288 with 1 Axes>"
      ]
     },
     "metadata": {
      "needs_background": "light"
     },
     "output_type": "display_data"
    }
   ],
   "source": [
    "plt.imshow(x_val[0].reshape((28, 28)), cmap=\"binary\")"
   ]
  },
  {
   "cell_type": "code",
   "execution_count": 19,
   "id": "permanent-devon",
   "metadata": {},
   "outputs": [
    {
     "name": "stdout",
     "output_type": "stream",
     "text": [
      "Predicted 0 : [0.51654213 0.01779608 0.09885377 0.12699985 0.03506811 0.02329013\n",
      " 0.06283657 0.02128665 0.05627245 0.04105426]\n"
     ]
    },
    {
     "data": {
      "image/png": "[encoded data removed]",
      "text/plain": [
       "<Figure size 432x288 with 1 Axes>"
      ]
     },
     "metadata": {
      "needs_background": "light"
     },
     "output_type": "display_data"
    }
   ],
   "source": [
    "i = 10\n",
    "y = dnn.forward_pass(x_val[i])\n",
    "plt.imshow(x_val[i].reshape((28, 28)), cmap=\"binary\")\n",
    "print(f\"Predicted {np.argmax(y)} : {y}\")"
   ]
  },
  {
   "cell_type": "code",
   "execution_count": 42,
   "id": "second-nickel",
   "metadata": {},
   "outputs": [
    {
     "data": {
      "text/plain": [
       "0.1368"
      ]
     },
     "execution_count": 42,
     "metadata": {},
     "output_type": "execute_result"
    }
   ],
   "source": [
    "dnn.compute_accuracy(x_val, y_val)"
   ]
  },
  {
   "cell_type": "code",
   "execution_count": 38,
   "id": "nasty-interview",
   "metadata": {},
   "outputs": [],
   "source": [
    "dnn1 = dnn"
   ]
  },
  {
   "cell_type": "code",
   "execution_count": 41,
   "id": "historical-theta",
   "metadata": {},
   "outputs": [],
   "source": [
    "import pickle\n",
    "pickle.dump( dnn, open( \"dnn_mnist_scratch.p\", \"wb\" ) )"
   ]
  },
  {
   "cell_type": "code",
   "execution_count": 6,
   "id": "extensive-chicago",
   "metadata": {},
   "outputs": [],
   "source": [
    "dnn = pickle.load( open( \"dnn_mnist_scratch.p\", \"rb\" ) )"
   ]
  },
  {
   "cell_type": "code",
   "execution_count": 45,
   "id": "convenient-government",
   "metadata": {},
   "outputs": [
    {
     "data": {
      "text/plain": [
       "(128, 784)"
      ]
     },
     "execution_count": 45,
     "metadata": {},
     "output_type": "execute_result"
    }
   ],
   "source": [
    "dnn.params[\"W1\"].shape"
   ]
  },
  {
   "cell_type": "code",
   "execution_count": 8,
   "id": "proof-colony",
   "metadata": {},
   "outputs": [
    {
     "data": {
      "text/plain": [
       "0.5441"
      ]
     },
     "execution_count": 8,
     "metadata": {},
     "output_type": "execute_result"
    }
   ],
   "source": [
    "dnn.compute_accuracy(x_test, y_test)"
   ]
  },
  {
   "cell_type": "code",
   "execution_count": null,
   "id": "british-works",
   "metadata": {},
   "outputs": [],
   "source": []
  }
 ],
 "metadata": {
  "kernelspec": {
   "display_name": "tipe",
   "language": "python",
   "name": "tipe"
  },
  "language_info": {
   "codemirror_mode": {
    "name": "ipython",
    "version": 3
   },
   "file_extension": ".py",
   "mimetype": "text/x-python",
   "name": "python",
   "nbconvert_exporter": "python",
   "pygments_lexer": "ipython3",
   "version": "3.8.5"
  },
  "varInspector": {
   "cols": {
    "lenName": 16,
    "lenType": 16,
    "lenVar": 40
   },
   "kernels_config": {
    "python": {
     "delete_cmd_postfix": "",
     "delete_cmd_prefix": "del ",
     "library": "var_list.py",
     "varRefreshCmd": "print(var_dic_list())"
    },
    "r": {
     "delete_cmd_postfix": ") ",
     "delete_cmd_prefix": "rm(",
     "library": "var_list.r",
     "varRefreshCmd": "cat(var_dic_list()) "
    }
   },
   "types_to_exclude": [
    "module",
    "function",
    "builtin_function_or_method",
    "instance",
    "_Feature"
   ],
   "window_display": false
  }
 },
 "nbformat": 4,
 "nbformat_minor": 5
}
