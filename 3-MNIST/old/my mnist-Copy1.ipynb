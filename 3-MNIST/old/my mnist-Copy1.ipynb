{
 "cells": [
  {
   "cell_type": "markdown",
   "metadata": {},
   "source": [
    "Nous allons essayer de "
   ]
  },
  {
   "cell_type": "code",
   "execution_count": 10,
   "metadata": {},
   "outputs": [],
   "source": [
    "import tensorflow as tf\n",
    "import matplotlib.pyplot as plt\n",
    "import numpy as np\n",
    "import time, pickle, cv2\n",
    "from PIL import Image"
   ]
  },
  {
   "cell_type": "code",
   "execution_count": 11,
   "metadata": {},
   "outputs": [],
   "source": [
    "(X_train, Y_train), (X_test, Y_test) = tf.keras.datasets.mnist.load_data()\n",
    "\n",
    "y_train = np.zeros((len(Y_train), 10))\n",
    "y_train[np.arange(len(Y_train)), Y_train] = 1 # to categorical\n",
    "y_test = np.zeros((len(Y_test), 10))\n",
    "y_test[np.arange(len(Y_test)), Y_test] = 1 # to categorical \n",
    "# cela permet de transformer la sortie en une liste [0, 0, 0, 0, 0, 0, 0, 0 ,0, 0, 0] \n",
    "# avec un 1 à l'indice n\n",
    "# par exemple si le nombre cherché est 2 : [0, 0, 1, 0, 0, 0, 0, 0 ,0, 0, 0] \n",
    "\n",
    "x_train = X_train.reshape(-1, 28*28)/255 # 28*28 = 784\n",
    "x_test = X_test.reshape(-1, 28*28)/255"
   ]
  },
  {
   "cell_type": "markdown",
   "metadata": {},
   "source": [
    "# POO"
   ]
  },
  {
   "cell_type": "markdown",
   "metadata": {},
   "source": [
    "## Activation"
   ]
  },
  {
   "cell_type": "code",
   "execution_count": 12,
   "metadata": {},
   "outputs": [],
   "source": [
    "\"\"\"\n",
    "Fonction activation Linéaire\n",
    "\"\"\"\n",
    "def lineaire(x, derive=False):\n",
    "    if derive:\n",
    "        np.ones(x.shape)\n",
    "    return x\n",
    "\n",
    "\"\"\"\n",
    "Fonction activation Sigmoid\n",
    "\"\"\"\n",
    "def sigmoid(x, derive=False):\n",
    "    \"\"\"\n",
    "    Fonction Sigmoid\n",
    "    \"\"\"\n",
    "    if derive:\n",
    "        return np.exp(-x) / ((1+np.exp(-x)) ** 2)\n",
    "    return 1 / (1 + np.exp(-x))\n",
    "\n",
    "\"\"\"\n",
    "Fonction activation Softmax\n",
    "\"\"\"\n",
    "def softmax(y, derivative=False):\n",
    "    # Numerically stable with large exponentials\n",
    "    result = []\n",
    "    for x in y:\n",
    "        exps = np.exp(x - x.max())\n",
    "        if derivative:\n",
    "            result.append(exps / np.sum(exps, axis=0) * (1 - exps / np.sum(exps, axis=0)))\n",
    "        else:\n",
    "            result.append(exps / np.sum(exps, axis=0))\n",
    "    return np.array(result)\n",
    "\n",
    "\"\"\"\n",
    "Fonction activation Softmax\n",
    "\"\"\"\n",
    "def maxi(y, derivative=False):\n",
    "    # Numerically stable with large exponentials\n",
    "    result = []\n",
    "    for x in y:\n",
    "        exps = np.exp(x - x.max())\n",
    "        if derivative:\n",
    "            result.append(exps / np.sum(exps, axis=0) * (1 - exps / np.sum(exps, axis=0)))\n",
    "        else:\n",
    "            result.append(exps / np.sum(exps, axis=0))\n",
    "    return np.array(result)\n"
   ]
  },
  {
   "cell_type": "markdown",
   "metadata": {},
   "source": [
    "## Layers"
   ]
  },
  {
   "cell_type": "code",
   "execution_count": 13,
   "metadata": {},
   "outputs": [],
   "source": [
    "\n",
    "\n",
    "class Layer:\n",
    "    def __init__(self, input_n=2, output_n=2, lr=0.1, activation=None):\n",
    "        \"\"\"\n",
    "        Crée un layer de n neuronne connecté aux layer de input neuronnes\n",
    "        \"\"\"\n",
    "        # input_n le nombre d'entrée du neuronne\n",
    "        # output_n le nombre de neuronne de sortie\n",
    "        self.weight = np.random.randn(input_n, output_n)\n",
    "        self.input_n = input_n\n",
    "        self.output_n = output_n\n",
    "        self.lr = lr # learning rate\n",
    "\n",
    "        # the name of the layer is 1\n",
    "        # next one is 2 and previous 0\n",
    "        self.predicted_output_ = 0\n",
    "        self.predicted_output  = 0\n",
    "        self.input_data = 0\n",
    "\n",
    "        # Fonction d'activation\n",
    "        self.activation = activation if activation != None else lineaire\n",
    "\n",
    "    def calculate(self, input_data):\n",
    "        \"\"\"\n",
    "        Calcule la sortie\n",
    "        \"\"\"\n",
    "        self.input_data = input_data\n",
    "        # self.input_data = np.concatenate((input_data, np.ones((len(input_data), 1))), axis=1)\n",
    "        y1 = np.dot(self.input_data, self.weight)\n",
    "        z1 = self.activation(y1)\n",
    "        self.predicted_output_ = y1\n",
    "        self.predicted_output = z1\n",
    "        return y1, z1\n",
    "\n",
    "    def learn(self, e_2):\n",
    "        \"\"\"\n",
    "        Permet de mettre à jour les weigths\n",
    "        \"\"\"\n",
    "        e1 = e_2 / self.output_n * self.activation(self.predicted_output_, True)\n",
    "        # e_0 is for the next layer\n",
    "        # e_0 = np.dot(e1, self.weight.T)\n",
    "        e_0 = np.dot(e1, self.weight.T)\n",
    "        dw1 = np.dot(e1.T, self.input_data)\n",
    "        self.weight -= dw1.T * self.lr\n",
    "        return e_0"
   ]
  },
  {
   "cell_type": "markdown",
   "metadata": {},
   "source": [
    "## Loss function"
   ]
  },
  {
   "cell_type": "code",
   "execution_count": 14,
   "metadata": {},
   "outputs": [],
   "source": [
    "\"\"\"\n",
    "Mean Square Error function\n",
    "\"\"\"\n",
    "def mse(predicted_output, target_output, derivate=False):\n",
    "    if derivate:\n",
    "        return (predicted_output - target_output) *2 \n",
    "    return ((predicted_output - target_output) ** 2).mean()  \n"
   ]
  },
  {
   "cell_type": "markdown",
   "metadata": {},
   "source": [
    "## Model"
   ]
  },
  {
   "cell_type": "code",
   "execution_count": 15,
   "metadata": {},
   "outputs": [],
   "source": [
    "class Model:\n",
    "\n",
    "    def __init__(self, layers=[], loss_function=None):\n",
    "        self.layers = layers\n",
    "        self.loss = []\n",
    "        self.lr = 0.1\n",
    "        self.loss_function = loss_function  \n",
    "\n",
    "    def predict(self, input_data):\n",
    "        predicted_output = input_data  # y_ is predicted data\n",
    "        for layer in self.layers:\n",
    "            predicted_output_, predicted_output = layer.calculate(predicted_output) # output\n",
    "        return predicted_output\n",
    "\n",
    "    def predict_loss(self, input_data, target_output):  # target_output is expected data\n",
    "        predicted_output = self.predict(input_data)  # y_ is predicted data\n",
    "        loss = self.loss_function(predicted_output, target_output)\n",
    "        return predicted_output, loss\n",
    "    \n",
    "    def compute_accuracy(self, x_val, y_val):\n",
    "        '''\n",
    "            This function does a forward pass of x, then checks if the indices\n",
    "            of the maximum value in the output equals the indices in the label\n",
    "            y. Then it sums over each prediction and calculates the accuracy.\n",
    "        '''\n",
    "        predictions = []\n",
    "\n",
    "        for x, y in zip(x_val, y_val):\n",
    "            output = self.predict([x])\n",
    "            pred = np.argmax(output[0])\n",
    "            predictions.append(pred == np.argmax(y))\n",
    "        \n",
    "        return np.mean(predictions)\n",
    "\n",
    "    def backpropagation(self, input_data, target_output, batch=None):\n",
    "        n = len(input_data)\n",
    "        if batch is None:\n",
    "            batch = n\n",
    "        step = n//batch\n",
    "        losses = []\n",
    "        for i in range(step):\n",
    "            b_input_data = input_data[::step]\n",
    "            b_target_output = target_output[::step]\n",
    "            predicted_output, loss = self.predict_loss(b_input_data, b_target_output)\n",
    "            d_loss = self.loss_function(predicted_output, b_target_output, True) # dérivé de loss dy_/dy\n",
    "            # Entrainement des layers\n",
    "            for i in range(len(self.layers)):\n",
    "                d_loss = self.layers[-i - 1].learn(d_loss)\n",
    "            losses.append(loss)\n",
    "        loss = sum(losses)/len(losses)\n",
    "        self.loss.append(loss)\n",
    "        return loss"
   ]
  },
  {
   "cell_type": "code",
   "execution_count": 16,
   "metadata": {},
   "outputs": [],
   "source": [
    "model = Model([\n",
    "    Layer(784, 32, 0.001, sigmoid),\n",
    "    Layer(32, 16, 0.001, sigmoid),\n",
    "    Layer(16, 10, 0.001, softmax),\n",
    "], mse)"
   ]
  },
  {
   "cell_type": "code",
   "execution_count": null,
   "metadata": {
    "scrolled": true
   },
   "outputs": [
    {
     "name": "stdout",
     "output_type": "stream",
     "text": [
      "Epoch : 0 loss : 0.0986624641238945, acc : 16.37 %\n",
      "Epoch : 1 loss : 0.09774712842693559, acc : 16.650000000000002 %\n",
      "Epoch : 2 loss : 0.09685635490531931, acc : 16.830000000000002 %\n"
     ]
    }
   ],
   "source": [
    "for i in range(1_000):\n",
    "    loss = model.backpropagation(x_train, y_train)\n",
    "    acc = model.compute_accuracy(x_test, y_test)\n",
    "    print(f\"Epoch : {i} loss : {loss}, acc : {acc*100} %\")"
   ]
  },
  {
   "cell_type": "code",
   "execution_count": 164,
   "metadata": {
    "scrolled": true
   },
   "outputs": [],
   "source": [
    "pickle.dump( model, open( \"models/1650-67.p\", \"wb\" ) )"
   ]
  },
  {
   "cell_type": "code",
   "execution_count": 167,
   "metadata": {},
   "outputs": [],
   "source": [
    "model = pickle.load( open( \"models/1350-66.p\", \"rb\" ) )"
   ]
  },
  {
   "cell_type": "code",
   "execution_count": 121,
   "metadata": {
    "scrolled": true
   },
   "outputs": [],
   "source": [
    "result = model.predict(x_test)"
   ]
  },
  {
   "cell_type": "code",
   "execution_count": 131,
   "metadata": {},
   "outputs": [
    {
     "data": {
      "text/plain": [
       "0.09230692276910765"
      ]
     },
     "execution_count": 131,
     "metadata": {},
     "output_type": "execute_result"
    }
   ],
   "source": [
    "x_test[0].mean()"
   ]
  },
  {
   "cell_type": "code",
   "execution_count": 168,
   "metadata": {
    "scrolled": true
   },
   "outputs": [
    {
     "name": "stdout",
     "output_type": "stream",
     "text": [
      "For 0 accuracy is 80.82\n",
      "For 1 accuracy is 91.98\n",
      "For 2 accuracy is 65.6\n",
      "For 3 accuracy is 58.12\n",
      "For 4 accuracy is 61.2\n",
      "For 5 accuracy is 39.24\n",
      "For 6 accuracy is 74.11\n",
      "For 7 accuracy is 73.15\n",
      "For 8 accuracy is 51.75\n",
      "For 9 accuracy is 59.76\n"
     ]
    }
   ],
   "source": [
    "for i in range(10):\n",
    "    indexer = (Y_test == i)\n",
    "    acc = model.compute_accuracy(x_test[indexer], y_test[indexer])\n",
    "    print(f\"For {i} accuracy is {round(acc * 100, 2)}\")"
   ]
  },
  {
   "cell_type": "code",
   "execution_count": 217,
   "metadata": {
    "scrolled": false
   },
   "outputs": [
    {
     "name": "stdout",
     "output_type": "stream",
     "text": [
      "5\n",
      "2\n",
      "6\n",
      "4\n",
      "1\n",
      "8\n",
      "6\n",
      "3\n",
      "2\n"
     ]
    }
   ],
   "source": [
    "for i in range(1, 10):\n",
    "    img = cv2.imread(f\"images/{i}.png\")\n",
    "    img = cv2.cvtColor(img, cv2.COLOR_RGB2GRAY)\n",
    "    img[img>20] = 255\n",
    "    img = (255-img)/255\n",
    "    print(model.predict(img.reshape(-1, 784)).argmax())"
   ]
  },
  {
   "cell_type": "code",
   "execution_count": 214,
   "metadata": {
    "scrolled": true
   },
   "outputs": [
    {
     "name": "stdout",
     "output_type": "stream",
     "text": [
      "7\n"
     ]
    },
    {
     "data": {
      "image/png": "[encoded data removed]",
      "text/plain": [
       "<Figure size 432x288 with 1 Axes>"
      ]
     },
     "metadata": {
      "needs_background": "light"
     },
     "output_type": "display_data"
    }
   ],
   "source": [
    "img = cv2.imread(f\"image.png\")\n",
    "img = cv2.cvtColor(img, cv2.COLOR_RGB2GRAY)\n",
    "plt.imshow((255-img))\n",
    "img = (255-img)/255\n",
    "print(model.predict(img.reshape(-1, 784)).argmax())"
   ]
  },
  {
   "cell_type": "code",
   "execution_count": 230,
   "metadata": {},
   "outputs": [
    {
     "data": {
      "image/png": "[encoded data removed]",
      "text/plain": [
       "<Figure size 720x720 with 10 Axes>"
      ]
     },
     "metadata": {
      "needs_background": "light"
     },
     "output_type": "display_data"
    }
   ],
   "source": [
    "fig = plt.figure(figsize=(10, 10))\n",
    "for i in range(10):\n",
    "    plt.subplot(3, 4, i+1)\n",
    "    img = cv2.imread(f\"images/{i}.png\")\n",
    "    img = cv2.cvtColor(img, cv2.COLOR_RGB2GRAY)\n",
    "    plt.imshow((255-img), cmap=\"gray\")"
   ]
  },
  {
   "cell_type": "code",
   "execution_count": 229,
   "metadata": {
    "scrolled": true
   },
   "outputs": [
    {
     "data": {
      "image/png": "[encoded data removed]",
      "text/plain": [
       "<Figure size 720x720 with 10 Axes>"
      ]
     },
     "metadata": {
      "needs_background": "light"
     },
     "output_type": "display_data"
    }
   ],
   "source": [
    "fig = plt.figure(figsize=(10, 10))\n",
    "for i in range(10):\n",
    "    plt.subplot(3, 4, i+1)\n",
    "    img = X_test[Y_test==i][0]\n",
    "    plt.imshow(img, cmap=\"gray\")"
   ]
  },
  {
   "cell_type": "code",
   "execution_count": 212,
   "metadata": {},
   "outputs": [],
   "source": [
    "Image.fromarray((255 - X_test[0])).save(\"image.png\")"
   ]
  },
  {
   "cell_type": "markdown",
   "metadata": {},
   "source": [
    "# Verification mnist Scratch"
   ]
  },
  {
   "cell_type": "code",
   "execution_count": 67,
   "metadata": {},
   "outputs": [
    {
     "data": {
      "text/plain": [
       "<__main__.Model at 0x7f21c4f601f0>"
      ]
     },
     "execution_count": 67,
     "metadata": {},
     "output_type": "execute_result"
    }
   ],
   "source": [
    "np.random.seed(2)\n",
    "model = Model([\n",
    "    Layer(784, 10, 0.001, sigmoid),\n",
    "    Layer(10, 10, 0.001, sigmoid),\n",
    "    Layer(10, 10, 0.001, softmax),\n",
    "], mse)\n",
    "model"
   ]
  },
  {
   "cell_type": "code",
   "execution_count": 68,
   "metadata": {
    "scrolled": true
   },
   "outputs": [
    {
     "data": {
      "text/plain": [
       "array([[-0.41675785, -0.05626683, -2.1361961 , ..., -1.24528809,\n",
       "        -1.05795222, -0.90900761],\n",
       "       [ 0.55145404,  2.29220801,  0.04153939, ...,  1.17500122,\n",
       "        -0.74787095,  0.00902525],\n",
       "       [-0.87810789, -0.15643417,  0.25657045, ..., -1.18761229,\n",
       "        -1.42121723, -0.1534952 ],\n",
       "       ...,\n",
       "       [ 1.4727013 , -0.14456274,  0.164019  , ...,  1.21832296,\n",
       "        -0.71507341, -1.65578878],\n",
       "       [-1.60114207, -0.30700111,  2.14274191, ...,  0.81862276,\n",
       "         0.544028  , -0.7790203 ],\n",
       "       [-1.64159138,  0.19158689, -0.11460511, ...,  0.48926351,\n",
       "         2.20785441, -0.77941336]])"
      ]
     },
     "execution_count": 68,
     "metadata": {},
     "output_type": "execute_result"
    }
   ],
   "source": [
    "model.layers[0].weight"
   ]
  },
  {
   "cell_type": "code",
   "execution_count": 69,
   "metadata": {
    "scrolled": false
   },
   "outputs": [
    {
     "data": {
      "text/plain": [
       "array([[5.43831768e-01, 1.32677113e-01, 1.00368587e-01, 3.41731638e-02,\n",
       "        1.06815841e-04, 1.34917825e-01, 1.46683394e-02, 6.29792550e-03,\n",
       "        3.38761057e-03, 2.95708513e-02]])"
      ]
     },
     "execution_count": 69,
     "metadata": {},
     "output_type": "execute_result"
    }
   ],
   "source": [
    "output = model.predict([x_train[0]]) # 1\n",
    "output"
   ]
  },
  {
   "cell_type": "code",
   "execution_count": 70,
   "metadata": {
    "scrolled": true
   },
   "outputs": [
    {
     "data": {
      "text/plain": [
       "array([[ 1.08766354e-01,  2.65354225e-02,  2.00737174e-02,\n",
       "         6.83463277e-03,  2.13631682e-05, -1.73016435e-01,\n",
       "         2.93366788e-03,  1.25958510e-03,  6.77522113e-04,\n",
       "         5.91417027e-03]])"
      ]
     },
     "execution_count": 70,
     "metadata": {},
     "output_type": "execute_result"
    }
   ],
   "source": [
    "d_loss = model.loss_function(output, [y_train[0]], True)\n",
    "d_loss / model.layers[2].output_n # 2"
   ]
  },
  {
   "cell_type": "code",
   "execution_count": 78,
   "metadata": {
    "scrolled": true
   },
   "outputs": [
    {
     "data": {
      "text/plain": [
       "array([[ 2.44929731,  1.03857581,  0.75950664, -0.31790199, -6.08599168,\n",
       "         1.05532325, -1.16365126, -2.00912235, -2.62921782, -0.46255352]])"
      ]
     },
     "execution_count": 78,
     "metadata": {},
     "output_type": "execute_result"
    }
   ],
   "source": [
    "model.layers[2].predicted_output_ # 3"
   ]
  },
  {
   "cell_type": "code",
   "execution_count": 79,
   "metadata": {},
   "outputs": [
    {
     "data": {
      "text/plain": [
       "array([[2.48078776e-01, 1.15073896e-01, 9.02947339e-02, 3.30053587e-02,\n",
       "        1.06804431e-04, 1.16715006e-01, 1.44531792e-02, 6.25826163e-03,\n",
       "        3.37613466e-03, 2.86964161e-02]])"
      ]
     },
     "execution_count": 79,
     "metadata": {},
     "output_type": "execute_result"
    }
   ],
   "source": [
    "model.layers[2].activation(model.layers[2].predicted_output_, True) #4_"
   ]
  },
  {
   "cell_type": "code",
   "execution_count": 80,
   "metadata": {},
   "outputs": [
    {
     "data": {
      "text/plain": [
       "array([[ 2.69826239e-02,  3.05353446e-03,  1.81255097e-03,\n",
       "         2.25579506e-04,  2.28168103e-09, -2.01936142e-02,\n",
       "         4.24008275e-05,  7.88281310e-06,  2.28740589e-06,\n",
       "         1.69715491e-04]])"
      ]
     },
     "execution_count": 80,
     "metadata": {},
     "output_type": "execute_result"
    }
   ],
   "source": [
    "e1 = d_loss / model.layers[2].output_n * model.layers[2].activation(model.layers[2].predicted_output_, True)\n",
    "e1 #5"
   ]
  },
  {
   "cell_type": "code",
   "execution_count": 83,
   "metadata": {
    "collapsed": true
   },
   "outputs": [
    {
     "data": {
      "text/plain": [
       "array([[ 2.25441705e-02,  4.68574686e-03,  1.31316215e-02,\n",
       "         2.08465859e-02,  2.33790104e-02,  1.19669092e-02,\n",
       "         9.28695328e-03,  1.46931212e-02,  1.23298505e-02,\n",
       "         5.99066073e-03],\n",
       "       [ 2.55124935e-03,  5.30270502e-04,  1.48606225e-03,\n",
       "         2.35913930e-03,  2.64572542e-03,  1.35425561e-03,\n",
       "         1.05097384e-03,  1.66277201e-03,  1.39532847e-03,\n",
       "         6.77943296e-04],\n",
       "       [ 1.51439898e-03,  3.14763867e-04,  8.82113374e-04,\n",
       "         1.40036417e-03,  1.57047914e-03,  8.03874118e-04,\n",
       "         6.23848750e-04,  9.87006720e-04,  8.28254604e-04,\n",
       "         4.02421128e-04],\n",
       "       [ 1.88473251e-04,  3.91736722e-05,  1.09782678e-04,\n",
       "         1.74281144e-04,  1.95452660e-04,  1.00045477e-04,\n",
       "         7.76405713e-05,  1.22837091e-04,  1.03079730e-04,\n",
       "         5.00829829e-05],\n",
       "       [ 1.90636042e-09,  3.96232025e-10,  1.11042469e-09,\n",
       "         1.76281075e-09,  1.97695541e-09,  1.01193531e-09,\n",
       "         7.85315215e-10,  1.24246685e-09,  1.04262602e-09,\n",
       "         5.06577010e-10],\n",
       "       [-1.68719055e-02, -3.50678143e-03, -9.82761722e-03,\n",
       "        -1.56014447e-02, -1.74966941e-02, -8.95595437e-03,\n",
       "        -6.95029335e-03, -1.09962331e-02, -9.22757714e-03,\n",
       "        -4.48337019e-03],\n",
       "       [ 3.54261872e-05,  7.36324033e-06,  2.06351918e-05,\n",
       "         3.27585819e-05,  3.67380649e-05,  1.88049486e-05,\n",
       "         1.45936328e-05,  2.30889516e-05,  1.93752789e-05,\n",
       "         9.41379806e-06],\n",
       "       [ 6.58614534e-06,  1.36891308e-06,  3.83632514e-06,\n",
       "         6.09020610e-06,  6.83003884e-06,  3.49606137e-06,\n",
       "         2.71312817e-06,  4.29250797e-06,  3.60209249e-06,\n",
       "         1.75013590e-06],\n",
       "       [ 1.91114358e-06,  3.97226193e-07,  1.11321080e-06,\n",
       "         1.76723374e-06,  1.98191571e-06,  1.01447431e-06,\n",
       "         7.87285614e-07,  1.24558427e-06,  1.04524203e-06,\n",
       "         5.07848039e-07],\n",
       "       [ 1.41798477e-04,  2.94724424e-05,  8.25953622e-05,\n",
       "         1.31120998e-04,  1.47049458e-04,  7.52695469e-05,\n",
       "         5.84131417e-05,  9.24168933e-05,  7.75523771e-05,\n",
       "         3.76800985e-05]])"
      ]
     },
     "execution_count": 83,
     "metadata": {},
     "output_type": "execute_result"
    }
   ],
   "source": [
    "dw1 = np.dot(e1.T, model.layers[2].input_data)\n",
    "dw1 # 6"
   ]
  },
  {
   "cell_type": "code",
   "execution_count": 82,
   "metadata": {},
   "outputs": [
    {
     "data": {
      "text/plain": [
       "array([[-0.00249508, -0.014638  ,  0.02224066,  0.0340381 ,  0.01014477,\n",
       "        -0.00048623,  0.02989711, -0.02649568,  0.02300101,  0.00748875]])"
      ]
     },
     "execution_count": 82,
     "metadata": {},
     "output_type": "execute_result"
    }
   ],
   "source": [
    "e_0 = np.dot(e1, model.layers[2].weight.T)\n",
    "e_0 # 7"
   ]
  },
  {
   "cell_type": "code",
   "execution_count": null,
   "metadata": {},
   "outputs": [],
   "source": [
    "e_0 = np.dot(e1, self.weight.T)\n",
    "dw1 = np.dot(e1.T, self.input_data)\n",
    "self.weight -= dw1.T * self.lr"
   ]
  },
  {
   "cell_type": "code",
   "execution_count": 22,
   "metadata": {
    "collapsed": true
   },
   "outputs": [
    {
     "name": "stdout",
     "output_type": "stream",
     "text": [
      "Epoch : 0 loss : 0.09672676362372394, acc : 9.74 %\n",
      "Epoch : 1 loss : 0.09859663656362805, acc : 10.100000000000001 %\n"
     ]
    },
    {
     "ename": "KeyboardInterrupt",
     "evalue": "",
     "output_type": "error",
     "traceback": [
      "\u001b[0;31m---------------------------------------------------------------------------\u001b[0m",
      "\u001b[0;31mKeyboardInterrupt\u001b[0m                         Traceback (most recent call last)",
      "\u001b[0;32m<ipython-input-22-c37838031e5d>\u001b[0m in \u001b[0;36m<module>\u001b[0;34m\u001b[0m\n\u001b[1;32m      1\u001b[0m \u001b[0;32mfor\u001b[0m \u001b[0mi\u001b[0m \u001b[0;32min\u001b[0m \u001b[0mrange\u001b[0m\u001b[0;34m(\u001b[0m\u001b[0;36m100\u001b[0m\u001b[0;34m)\u001b[0m\u001b[0;34m:\u001b[0m\u001b[0;34m\u001b[0m\u001b[0;34m\u001b[0m\u001b[0m\n\u001b[0;32m----> 2\u001b[0;31m     \u001b[0m_\u001b[0m\u001b[0;34m,\u001b[0m \u001b[0mloss\u001b[0m \u001b[0;34m=\u001b[0m \u001b[0mmodel\u001b[0m\u001b[0;34m.\u001b[0m\u001b[0mbackpropagation\u001b[0m\u001b[0;34m(\u001b[0m\u001b[0mx_train\u001b[0m\u001b[0;34m,\u001b[0m \u001b[0my_train\u001b[0m\u001b[0;34m)\u001b[0m\u001b[0;34m\u001b[0m\u001b[0;34m\u001b[0m\u001b[0m\n\u001b[0m\u001b[1;32m      3\u001b[0m     \u001b[0macc\u001b[0m \u001b[0;34m=\u001b[0m \u001b[0mmodel\u001b[0m\u001b[0;34m.\u001b[0m\u001b[0mcompute_accuracy\u001b[0m\u001b[0;34m(\u001b[0m\u001b[0mx_test\u001b[0m\u001b[0;34m,\u001b[0m \u001b[0my_test\u001b[0m\u001b[0;34m)\u001b[0m\u001b[0;34m\u001b[0m\u001b[0;34m\u001b[0m\u001b[0m\n\u001b[1;32m      4\u001b[0m     \u001b[0mprint\u001b[0m\u001b[0;34m(\u001b[0m\u001b[0;34mf\"Epoch : {i} loss : {loss}, acc : {acc*100} %\"\u001b[0m\u001b[0;34m)\u001b[0m\u001b[0;34m\u001b[0m\u001b[0;34m\u001b[0m\u001b[0m\n",
      "\u001b[0;32m<ipython-input-19-618bf40aed55>\u001b[0m in \u001b[0;36mbackpropagation\u001b[0;34m(self, input_data, target_output)\u001b[0m\n\u001b[1;32m     38\u001b[0m         \u001b[0;31m# Entrainement des layers\u001b[0m\u001b[0;34m\u001b[0m\u001b[0;34m\u001b[0m\u001b[0;34m\u001b[0m\u001b[0m\n\u001b[1;32m     39\u001b[0m         \u001b[0;32mfor\u001b[0m \u001b[0mi\u001b[0m \u001b[0;32min\u001b[0m \u001b[0mrange\u001b[0m\u001b[0;34m(\u001b[0m\u001b[0mlen\u001b[0m\u001b[0;34m(\u001b[0m\u001b[0mself\u001b[0m\u001b[0;34m.\u001b[0m\u001b[0mlayers\u001b[0m\u001b[0;34m)\u001b[0m\u001b[0;34m)\u001b[0m\u001b[0;34m:\u001b[0m\u001b[0;34m\u001b[0m\u001b[0;34m\u001b[0m\u001b[0m\n\u001b[0;32m---> 40\u001b[0;31m             \u001b[0md_loss\u001b[0m \u001b[0;34m=\u001b[0m \u001b[0mself\u001b[0m\u001b[0;34m.\u001b[0m\u001b[0mlayers\u001b[0m\u001b[0;34m[\u001b[0m\u001b[0;34m-\u001b[0m\u001b[0mi\u001b[0m \u001b[0;34m-\u001b[0m \u001b[0;36m1\u001b[0m\u001b[0;34m]\u001b[0m\u001b[0;34m.\u001b[0m\u001b[0mlearn\u001b[0m\u001b[0;34m(\u001b[0m\u001b[0md_loss\u001b[0m\u001b[0;34m)\u001b[0m\u001b[0;34m\u001b[0m\u001b[0;34m\u001b[0m\u001b[0m\n\u001b[0m\u001b[1;32m     41\u001b[0m         \u001b[0mself\u001b[0m\u001b[0;34m.\u001b[0m\u001b[0mloss\u001b[0m\u001b[0;34m.\u001b[0m\u001b[0mappend\u001b[0m\u001b[0;34m(\u001b[0m\u001b[0mloss\u001b[0m\u001b[0;34m)\u001b[0m\u001b[0;34m\u001b[0m\u001b[0;34m\u001b[0m\u001b[0m\n\u001b[1;32m     42\u001b[0m         \u001b[0;32mreturn\u001b[0m \u001b[0mpredicted_output\u001b[0m\u001b[0;34m,\u001b[0m \u001b[0mloss\u001b[0m\u001b[0;34m\u001b[0m\u001b[0;34m\u001b[0m\u001b[0m\n",
      "\u001b[0;32m<ipython-input-17-8c71c8924958>\u001b[0m in \u001b[0;36mlearn\u001b[0;34m(self, e_2)\u001b[0m\n\u001b[1;32m     36\u001b[0m         \u001b[0mPermet\u001b[0m \u001b[0mde\u001b[0m \u001b[0mmettre\u001b[0m \u001b[0mà\u001b[0m \u001b[0mjour\u001b[0m \u001b[0mles\u001b[0m \u001b[0mweigths\u001b[0m\u001b[0;34m\u001b[0m\u001b[0;34m\u001b[0m\u001b[0m\n\u001b[1;32m     37\u001b[0m         \"\"\"\n\u001b[0;32m---> 38\u001b[0;31m         \u001b[0me1\u001b[0m \u001b[0;34m=\u001b[0m \u001b[0me_2\u001b[0m \u001b[0;34m*\u001b[0m \u001b[0mself\u001b[0m\u001b[0;34m.\u001b[0m\u001b[0mactivation\u001b[0m\u001b[0;34m(\u001b[0m\u001b[0mself\u001b[0m\u001b[0;34m.\u001b[0m\u001b[0mpredicted_output\u001b[0m\u001b[0;34m,\u001b[0m \u001b[0;32mTrue\u001b[0m\u001b[0;34m)\u001b[0m\u001b[0;34m\u001b[0m\u001b[0;34m\u001b[0m\u001b[0m\n\u001b[0m\u001b[1;32m     39\u001b[0m         \u001b[0;31m# e_0 is for the next layer\u001b[0m\u001b[0;34m\u001b[0m\u001b[0;34m\u001b[0m\u001b[0;34m\u001b[0m\u001b[0m\n\u001b[1;32m     40\u001b[0m         \u001b[0;31m# e_0 = np.dot(e1, self.weight.T)\u001b[0m\u001b[0;34m\u001b[0m\u001b[0;34m\u001b[0m\u001b[0;34m\u001b[0m\u001b[0m\n",
      "\u001b[0;32m<ipython-input-3-75c357e4a70e>\u001b[0m in \u001b[0;36msoftmax\u001b[0;34m(y, derivative)\u001b[0m\n\u001b[1;32m     27\u001b[0m         \u001b[0mexps\u001b[0m \u001b[0;34m=\u001b[0m \u001b[0mnp\u001b[0m\u001b[0;34m.\u001b[0m\u001b[0mexp\u001b[0m\u001b[0;34m(\u001b[0m\u001b[0mx\u001b[0m \u001b[0;34m-\u001b[0m \u001b[0mx\u001b[0m\u001b[0;34m.\u001b[0m\u001b[0mmax\u001b[0m\u001b[0;34m(\u001b[0m\u001b[0;34m)\u001b[0m\u001b[0;34m)\u001b[0m\u001b[0;34m\u001b[0m\u001b[0;34m\u001b[0m\u001b[0m\n\u001b[1;32m     28\u001b[0m         \u001b[0;32mif\u001b[0m \u001b[0mderivative\u001b[0m\u001b[0;34m:\u001b[0m\u001b[0;34m\u001b[0m\u001b[0;34m\u001b[0m\u001b[0m\n\u001b[0;32m---> 29\u001b[0;31m             \u001b[0mresult\u001b[0m\u001b[0;34m.\u001b[0m\u001b[0mappend\u001b[0m\u001b[0;34m(\u001b[0m\u001b[0mexps\u001b[0m \u001b[0;34m/\u001b[0m \u001b[0mnp\u001b[0m\u001b[0;34m.\u001b[0m\u001b[0msum\u001b[0m\u001b[0;34m(\u001b[0m\u001b[0mexps\u001b[0m\u001b[0;34m,\u001b[0m \u001b[0maxis\u001b[0m\u001b[0;34m=\u001b[0m\u001b[0;36m0\u001b[0m\u001b[0;34m)\u001b[0m \u001b[0;34m*\u001b[0m \u001b[0;34m(\u001b[0m\u001b[0;36m1\u001b[0m \u001b[0;34m-\u001b[0m \u001b[0mexps\u001b[0m \u001b[0;34m/\u001b[0m \u001b[0mnp\u001b[0m\u001b[0;34m.\u001b[0m\u001b[0msum\u001b[0m\u001b[0;34m(\u001b[0m\u001b[0mexps\u001b[0m\u001b[0;34m,\u001b[0m \u001b[0maxis\u001b[0m\u001b[0;34m=\u001b[0m\u001b[0;36m0\u001b[0m\u001b[0;34m)\u001b[0m\u001b[0;34m)\u001b[0m\u001b[0;34m)\u001b[0m\u001b[0;34m\u001b[0m\u001b[0;34m\u001b[0m\u001b[0m\n\u001b[0m\u001b[1;32m     30\u001b[0m         \u001b[0;32melse\u001b[0m\u001b[0;34m:\u001b[0m\u001b[0;34m\u001b[0m\u001b[0;34m\u001b[0m\u001b[0m\n\u001b[1;32m     31\u001b[0m             \u001b[0mresult\u001b[0m\u001b[0;34m.\u001b[0m\u001b[0mappend\u001b[0m\u001b[0;34m(\u001b[0m\u001b[0mexps\u001b[0m \u001b[0;34m/\u001b[0m \u001b[0mnp\u001b[0m\u001b[0;34m.\u001b[0m\u001b[0msum\u001b[0m\u001b[0;34m(\u001b[0m\u001b[0mexps\u001b[0m\u001b[0;34m,\u001b[0m \u001b[0maxis\u001b[0m\u001b[0;34m=\u001b[0m\u001b[0;36m0\u001b[0m\u001b[0;34m)\u001b[0m\u001b[0;34m)\u001b[0m\u001b[0;34m\u001b[0m\u001b[0;34m\u001b[0m\u001b[0m\n",
      "\u001b[0;32m<__array_function__ internals>\u001b[0m in \u001b[0;36msum\u001b[0;34m(*args, **kwargs)\u001b[0m\n",
      "\u001b[0;32m~/Documents/Programmation/4Tipe/venv/lib/python3.8/site-packages/numpy/core/fromnumeric.py\u001b[0m in \u001b[0;36msum\u001b[0;34m(a, axis, dtype, out, keepdims, initial, where)\u001b[0m\n\u001b[1;32m   2239\u001b[0m         \u001b[0;32mreturn\u001b[0m \u001b[0mres\u001b[0m\u001b[0;34m\u001b[0m\u001b[0;34m\u001b[0m\u001b[0m\n\u001b[1;32m   2240\u001b[0m \u001b[0;34m\u001b[0m\u001b[0m\n\u001b[0;32m-> 2241\u001b[0;31m     return _wrapreduction(a, np.add, 'sum', axis, dtype, out, keepdims=keepdims,\n\u001b[0m\u001b[1;32m   2242\u001b[0m                           initial=initial, where=where)\n\u001b[1;32m   2243\u001b[0m \u001b[0;34m\u001b[0m\u001b[0m\n",
      "\u001b[0;32m~/Documents/Programmation/4Tipe/venv/lib/python3.8/site-packages/numpy/core/fromnumeric.py\u001b[0m in \u001b[0;36m_wrapreduction\u001b[0;34m(obj, ufunc, method, axis, dtype, out, **kwargs)\u001b[0m\n\u001b[1;32m     69\u001b[0m \u001b[0;34m\u001b[0m\u001b[0m\n\u001b[1;32m     70\u001b[0m \u001b[0;32mdef\u001b[0m \u001b[0m_wrapreduction\u001b[0m\u001b[0;34m(\u001b[0m\u001b[0mobj\u001b[0m\u001b[0;34m,\u001b[0m \u001b[0mufunc\u001b[0m\u001b[0;34m,\u001b[0m \u001b[0mmethod\u001b[0m\u001b[0;34m,\u001b[0m \u001b[0maxis\u001b[0m\u001b[0;34m,\u001b[0m \u001b[0mdtype\u001b[0m\u001b[0;34m,\u001b[0m \u001b[0mout\u001b[0m\u001b[0;34m,\u001b[0m \u001b[0;34m**\u001b[0m\u001b[0mkwargs\u001b[0m\u001b[0;34m)\u001b[0m\u001b[0;34m:\u001b[0m\u001b[0;34m\u001b[0m\u001b[0;34m\u001b[0m\u001b[0m\n\u001b[0;32m---> 71\u001b[0;31m     passkwargs = {k: v for k, v in kwargs.items()\n\u001b[0m\u001b[1;32m     72\u001b[0m                   if v is not np._NoValue}\n\u001b[1;32m     73\u001b[0m \u001b[0;34m\u001b[0m\u001b[0m\n",
      "\u001b[0;31mKeyboardInterrupt\u001b[0m: "
     ]
    }
   ],
   "source": [
    "for i in range(100):\n",
    "    _, loss = model.backpropagation(x_train, y_train)\n",
    "    acc = model.compute_accuracy(x_test, y_test)\n",
    "    print(f\"Epoch : {i} loss : {loss}, acc : {acc*100} %\")"
   ]
  },
  {
   "cell_type": "markdown",
   "metadata": {},
   "source": [
    "# trainning google colab test"
   ]
  },
  {
   "cell_type": "code",
   "execution_count": 9,
   "metadata": {},
   "outputs": [],
   "source": [
    "model = pickle.load( open( \"models/1350-66.p\", \"rb\" ) )"
   ]
  },
  {
   "cell_type": "code",
   "execution_count": 10,
   "metadata": {},
   "outputs": [
    {
     "data": {
      "text/plain": [
       "0.662"
      ]
     },
     "execution_count": 10,
     "metadata": {},
     "output_type": "execute_result"
    }
   ],
   "source": [
    "model.compute_accuracy(x_test, y_test)"
   ]
  },
  {
   "cell_type": "code",
   "execution_count": null,
   "metadata": {},
   "outputs": [],
   "source": []
  }
 ],
 "metadata": {
  "kernelspec": {
   "display_name": "4Tipe",
   "language": "python",
   "name": "4tipe"
  },
  "language_info": {
   "codemirror_mode": {
    "name": "ipython",
    "version": 3
   },
   "file_extension": ".py",
   "mimetype": "text/x-python",
   "name": "python",
   "nbconvert_exporter": "python",
   "pygments_lexer": "ipython3",
   "version": "3.8.5"
  },
  "varInspector": {
   "cols": {
    "lenName": 16,
    "lenType": 16,
    "lenVar": 40
   },
   "kernels_config": {
    "python": {
     "delete_cmd_postfix": "",
     "delete_cmd_prefix": "del ",
     "library": "var_list.py",
     "varRefreshCmd": "print(var_dic_list())"
    },
    "r": {
     "delete_cmd_postfix": ") ",
     "delete_cmd_prefix": "rm(",
     "library": "var_list.r",
     "varRefreshCmd": "cat(var_dic_list()) "
    }
   },
   "types_to_exclude": [
    "module",
    "function",
    "builtin_function_or_method",
    "instance",
    "_Feature"
   ],
   "window_display": false
  }
 },
 "nbformat": 4,
 "nbformat_minor": 5
}
