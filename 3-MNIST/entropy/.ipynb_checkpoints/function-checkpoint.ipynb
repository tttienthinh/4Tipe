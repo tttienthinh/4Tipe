{
 "cells": [
  {
   "cell_type": "code",
   "execution_count": 24,
   "id": "governing-methodology",
   "metadata": {},
   "outputs": [],
   "source": [
    "import numpy as np \n",
    "from scipy.special import softmax"
   ]
  },
  {
   "cell_type": "code",
   "execution_count": 30,
   "id": "valued-dayton",
   "metadata": {
    "scrolled": true
   },
   "outputs": [
    {
     "data": {
      "text/plain": [
       "array([0.46999241, 0.97815501, 0.41967877, 0.42957938, 0.00691736])"
      ]
     },
     "execution_count": 30,
     "metadata": {},
     "output_type": "execute_result"
    }
   ],
   "source": [
    "a = np.random.random(5) \n",
    "a"
   ]
  },
  {
   "cell_type": "code",
   "execution_count": 33,
   "id": "constant-tokyo",
   "metadata": {},
   "outputs": [],
   "source": [
    "def softmax_(x):\n",
    "    y = np.exp(x)\n",
    "    axe = max(1, len(a.shape)-1) # calcul le softmax sur l'axe en fonction de la taille \n",
    "    somme = np.sum(y, axis=axe)\n",
    "    y /= somme\n",
    "    return y"
   ]
  },
  {
   "cell_type": "code",
   "execution_count": 44,
   "id": "integrated-synthetic",
   "metadata": {},
   "outputs": [
    {
     "data": {
      "text/plain": [
       "array([0.19220038, 0.31948204, 0.18276932, 0.18458784, 0.12096042])"
      ]
     },
     "execution_count": 44,
     "metadata": {},
     "output_type": "execute_result"
    }
   ],
   "source": [
    "softmax(a)"
   ]
  }
 ],
 "metadata": {
  "kernelspec": {
   "display_name": "tipe",
   "language": "python",
   "name": "tipe"
  },
  "language_info": {
   "codemirror_mode": {
    "name": "ipython",
    "version": 3
   },
   "file_extension": ".py",
   "mimetype": "text/x-python",
   "name": "python",
   "nbconvert_exporter": "python",
   "pygments_lexer": "ipython3",
   "version": "3.8.5"
  },
  "varInspector": {
   "cols": {
    "lenName": 16,
    "lenType": 16,
    "lenVar": 40
   },
   "kernels_config": {
    "python": {
     "delete_cmd_postfix": "",
     "delete_cmd_prefix": "del ",
     "library": "var_list.py",
     "varRefreshCmd": "print(var_dic_list())"
    },
    "r": {
     "delete_cmd_postfix": ") ",
     "delete_cmd_prefix": "rm(",
     "library": "var_list.r",
     "varRefreshCmd": "cat(var_dic_list()) "
    }
   },
   "types_to_exclude": [
    "module",
    "function",
    "builtin_function_or_method",
    "instance",
    "_Feature"
   ],
   "window_display": false
  }
 },
 "nbformat": 4,
 "nbformat_minor": 5
}
