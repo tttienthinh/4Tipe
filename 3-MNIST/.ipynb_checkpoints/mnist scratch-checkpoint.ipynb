{
 "cells": [
  {
   "cell_type": "markdown",
   "id": "modified-peoples",
   "metadata": {},
   "source": [
    "https://mlfromscratch.com/neural-network-tutorial/#/\n",
    "\n",
    "fonctionne bien"
   ]
  },
  {
   "cell_type": "code",
   "execution_count": null,
   "id": "determined-popularity",
   "metadata": {},
   "outputs": [],
   "source": [
    "import tensorflow as tf\n",
    "import matplotlib.pyplot as plt\n",
    "import numpy as np\n",
    "import time, pickle"
   ]
  },
  {
   "cell_type": "code",
   "execution_count": 1,
   "id": "private-basketball",
   "metadata": {},
   "outputs": [],
   "source": [
    "from sklearn.datasets import fetch_openml\n",
    "import tensorflow as tf\n",
    "import numpy as np\n",
    "from sklearn.model_selection import train_test_split\n",
    "import time\n",
    "import matplotlib.pyplot as plt\n",
    "import pickle"
   ]
  },
  {
   "cell_type": "code",
   "execution_count": 7,
   "id": "careful-battlefield",
   "metadata": {},
   "outputs": [],
   "source": [
    "(X_train, Y_train), (X_test, Y_test) = tf.keras.datasets.mnist.load_data()\n",
    "\n",
    "y_train = tf.keras.utils.to_categorical(Y_train)\n",
    "y_val = tf.keras.utils.to_categorical(Y_test)\n",
    "\n",
    "x_train = X_train.reshape(len(X_train), 28*28)/255 # 28*28 = 784\n",
    "x_test = X_test.reshape(len(X_test), 28*28)/255"
   ]
  },
  {
   "cell_type": "code",
   "execution_count": 4,
   "id": "owned-wednesday",
   "metadata": {
    "scrolled": true
   },
   "outputs": [],
   "source": [
    "(X_train, Y_train), (X_test, Y_test) = tf.keras.datasets.mnist.load_data()\n",
    "\n",
    "X_train = tf.keras.utils.normalize(X_train, axis=1)\n",
    "X_test = tf.keras.utils.normalize(X_test, axis=1)\n",
    "\n",
    "y_train = np.zeros((len(Y_train), 10))\n",
    "y_train[np.arange(len(Y_train)), Y_train] = 1 # to categorical\n",
    "y_test = np.zeros((len(Y_test), 10))\n",
    "y_test[np.arange(len(Y_test)), Y_test] = 1 # to categorical\n",
    "\n",
    "Y_train = y_train\n",
    "Y_test = y_test"
   ]
  },
  {
   "cell_type": "code",
   "execution_count": 37,
   "id": "attended-freeze",
   "metadata": {},
   "outputs": [],
   "source": [
    "class DeepNeuralNetwork():\n",
    "    def __init__(self, sizes, epochs=10, l_rate=0.001):\n",
    "        self.sizes = sizes\n",
    "        self.epochs = epochs\n",
    "        self.l_rate = l_rate\n",
    "\n",
    "        # we save all parameters in the neural network in this dictionary\n",
    "        self.params = self.initialization()\n",
    "\n",
    "    def sigmoid(self, x, derivative=False):\n",
    "        if derivative:\n",
    "            return (np.exp(-x))/((np.exp(-x)+1)**2)\n",
    "        return 1/(1 + np.exp(-x))\n",
    "\n",
    "    def softmax(self, x, derivative=False):\n",
    "        # Numerically stable with large exponentials\n",
    "        exps = np.exp(x - x.max())\n",
    "        if derivative:\n",
    "            return exps / np.sum(exps, axis=0) * (1 - exps / np.sum(exps, axis=0))\n",
    "        return exps / np.sum(exps, axis=0)\n",
    "\n",
    "    def initialization(self):\n",
    "        # number of nodes in each layer\n",
    "        input_layer=self.sizes[0]\n",
    "        hidden_1=self.sizes[1]\n",
    "        hidden_2=self.sizes[2]\n",
    "        output_layer=self.sizes[3]\n",
    "        \n",
    "        params = {\n",
    "            'W1':np.random.randn(hidden_1, input_layer) * np.sqrt(1. / hidden_1),\n",
    "            'W2':np.random.randn(hidden_2, hidden_1) * np.sqrt(1. / hidden_2),\n",
    "            'W3':np.random.randn(output_layer, hidden_2) * np.sqrt(1. / output_layer)\n",
    "        }\n",
    "        \"\"\"\n",
    "        params = {\n",
    "            'W1':np.random.randn(hidden_1, input_layer),\n",
    "            'W2':np.random.randn(hidden_2, hidden_1),\n",
    "            'W3':np.random.randn(output_layer, hidden_2),\n",
    "        }\n",
    "        \"\"\"\n",
    "        return params\n",
    "\n",
    "    def forward_pass(self, x_train):\n",
    "        params = self.params\n",
    "\n",
    "        # input layer activations becomes sample\n",
    "        params['A0'] = x_train\n",
    "\n",
    "        # input layer to hidden layer 1\n",
    "        params['Z1'] = np.dot(params[\"W1\"], params['A0'])\n",
    "        params['A1'] = self.sigmoid(params['Z1'])\n",
    "\n",
    "        # hidden layer 1 to hidden layer 2\n",
    "        params['Z2'] = np.dot(params[\"W2\"], params['A1'])\n",
    "        params['A2'] = self.sigmoid(params['Z2'])\n",
    "\n",
    "        # hidden layer 2 to output layer\n",
    "        params['Z3'] = np.dot(params[\"W3\"], params['A2'])\n",
    "        params['A3'] = self.softmax(params['Z3'])\n",
    "\n",
    "        return params['A3']\n",
    "\n",
    "    def backward_pass(self, y_train, output):\n",
    "        '''\n",
    "            This is the backpropagation algorithm, for calculating the updates\n",
    "            of the neural network's parameters.\n",
    "\n",
    "            Note: There is a stability issue that causes warnings. This is \n",
    "                  caused  by the dot and multiply operations on the huge arrays.\n",
    "                  \n",
    "                  RuntimeWarning: invalid value encountered in true_divide\n",
    "                  RuntimeWarning: overflow encountered in exp\n",
    "                  RuntimeWarning: overflow encountered in square\n",
    "        '''\n",
    "        params = self.params\n",
    "        change_w = {}\n",
    "\n",
    "        # Calculate W3 update\n",
    "        error = 2 * (output - y_train) / output.shape[0] * self.softmax(params['Z3'], derivative=True)\n",
    "        change_w['W3'] = np.outer(error, params['A2'])\n",
    "\n",
    "        # Calculate W2 update\n",
    "        error = np.dot(params['W3'].T, error) * self.sigmoid(params['Z2'], derivative=True)\n",
    "        change_w['W2'] = np.outer(error, params['A1'])\n",
    "\n",
    "        # Calculate W1 update\n",
    "        error = np.dot(params['W2'].T, error) * self.sigmoid(params['Z1'], derivative=True)\n",
    "        change_w['W1'] = np.outer(error, params['A0'])\n",
    "\n",
    "        return change_w\n",
    "\n",
    "    def update_network_parameters(self, changes_to_w):\n",
    "        '''\n",
    "            Update network parameters according to update rule from\n",
    "            Stochastic Gradient Descent.\n",
    "\n",
    "            θ = θ - η * ∇J(x, y), \n",
    "                theta θ:            a network parameter (e.g. a weight w)\n",
    "                eta η:              the learning rate\n",
    "                gradient ∇J(x, y):  the gradient of the objective function,\n",
    "                                    i.e. the change for a specific theta θ\n",
    "        '''\n",
    "        \n",
    "        for key, value in changes_to_w.items():\n",
    "            self.params[key] -= self.l_rate * value\n",
    "\n",
    "    def compute_accuracy(self, x_val, y_val):\n",
    "        '''\n",
    "            This function does a forward pass of x, then checks if the indices\n",
    "            of the maximum value in the output equals the indices in the label\n",
    "            y. Then it sums over each prediction and calculates the accuracy.\n",
    "        '''\n",
    "        predictions = []\n",
    "\n",
    "        for x, y in zip(x_val, y_val):\n",
    "            output = self.forward_pass(x)\n",
    "            pred = np.argmax(output)\n",
    "            predictions.append(pred == np.argmax(y))\n",
    "        \n",
    "        return np.mean(predictions)\n",
    "\n",
    "    def train(self, x_train, y_train, x_val, y_val):\n",
    "        start_time = time.time()\n",
    "        for iteration in range(self.epochs):\n",
    "            for x,y in zip(x_train, y_train):\n",
    "                output = self.forward_pass(x)\n",
    "                changes_to_w = self.backward_pass(y, output)\n",
    "                self.update_network_parameters(changes_to_w)\n",
    "            \n",
    "            accuracy = self.compute_accuracy(x_val, y_val)\n",
    "            print('Epoch: {0}, Time Spent: {1:.2f}s, Accuracy: {2:.2f}%'.format(\n",
    "                iteration+1, time.time() - start_time, accuracy * 100\n",
    "            ))\n",
    "            "
   ]
  },
  {
   "cell_type": "code",
   "execution_count": 38,
   "id": "informative-repeat",
   "metadata": {},
   "outputs": [],
   "source": [
    "dnn = DeepNeuralNetwork(sizes=[784, 10, 10, 10])"
   ]
  },
  {
   "cell_type": "code",
   "execution_count": 39,
   "id": "protective-sudan",
   "metadata": {},
   "outputs": [],
   "source": [
    "np.random.seed(2)\n",
    "dnn = DeepNeuralNetwork(sizes=[784, 10, 10, 10])"
   ]
  },
  {
   "cell_type": "code",
   "execution_count": 40,
   "id": "thermal-breakfast",
   "metadata": {},
   "outputs": [
    {
     "data": {
      "text/plain": [
       "-0.0076726059763299655"
      ]
     },
     "execution_count": 40,
     "metadata": {},
     "output_type": "execute_result"
    }
   ],
   "source": [
    "dnn.params['W1'].mean()"
   ]
  },
  {
   "cell_type": "code",
   "execution_count": null,
   "id": "sudden-finish",
   "metadata": {
    "scrolled": true
   },
   "outputs": [
    {
     "name": "stdout",
     "output_type": "stream",
     "text": [
      "Epoch: 1, Time Spent: 8.54s, Accuracy: 14.89%\n",
      "Epoch: 2, Time Spent: 17.10s, Accuracy: 17.75%\n",
      "Epoch: 3, Time Spent: 25.69s, Accuracy: 18.14%\n",
      "Epoch: 4, Time Spent: 34.14s, Accuracy: 18.20%\n",
      "Epoch: 5, Time Spent: 42.87s, Accuracy: 17.91%\n",
      "Epoch: 6, Time Spent: 51.24s, Accuracy: 17.63%\n",
      "Epoch: 7, Time Spent: 59.62s, Accuracy: 17.60%\n",
      "Epoch: 8, Time Spent: 68.05s, Accuracy: 17.65%\n",
      "Epoch: 9, Time Spent: 76.44s, Accuracy: 17.82%\n",
      "Epoch: 10, Time Spent: 84.81s, Accuracy: 17.97%\n",
      "Epoch: 11, Time Spent: 93.16s, Accuracy: 18.21%\n",
      "Epoch: 12, Time Spent: 101.58s, Accuracy: 18.51%\n",
      "Epoch: 13, Time Spent: 109.90s, Accuracy: 18.72%\n",
      "Epoch: 14, Time Spent: 118.21s, Accuracy: 19.10%\n",
      "Epoch: 15, Time Spent: 126.59s, Accuracy: 19.52%\n",
      "Epoch: 16, Time Spent: 135.02s, Accuracy: 19.90%\n",
      "Epoch: 17, Time Spent: 143.31s, Accuracy: 20.25%\n",
      "Epoch: 18, Time Spent: 151.56s, Accuracy: 20.68%\n",
      "Epoch: 19, Time Spent: 159.98s, Accuracy: 20.97%\n",
      "Epoch: 20, Time Spent: 168.31s, Accuracy: 21.28%\n",
      "Epoch: 21, Time Spent: 176.86s, Accuracy: 21.59%\n",
      "Epoch: 22, Time Spent: 185.77s, Accuracy: 21.89%\n",
      "Epoch: 23, Time Spent: 194.83s, Accuracy: 22.18%\n",
      "Epoch: 24, Time Spent: 204.03s, Accuracy: 22.49%\n",
      "Epoch: 25, Time Spent: 213.04s, Accuracy: 22.91%\n",
      "Epoch: 26, Time Spent: 221.62s, Accuracy: 23.19%\n",
      "Epoch: 27, Time Spent: 230.06s, Accuracy: 23.46%\n",
      "Epoch: 28, Time Spent: 239.15s, Accuracy: 23.79%\n",
      "Epoch: 29, Time Spent: 248.33s, Accuracy: 24.17%\n",
      "Epoch: 30, Time Spent: 257.41s, Accuracy: 24.53%\n",
      "Epoch: 31, Time Spent: 266.41s, Accuracy: 24.81%\n",
      "Epoch: 32, Time Spent: 275.44s, Accuracy: 25.20%\n",
      "Epoch: 33, Time Spent: 284.43s, Accuracy: 25.49%\n",
      "Epoch: 34, Time Spent: 293.29s, Accuracy: 25.72%\n",
      "Epoch: 35, Time Spent: 301.76s, Accuracy: 25.95%\n",
      "Epoch: 36, Time Spent: 310.29s, Accuracy: 26.14%\n",
      "Epoch: 37, Time Spent: 318.66s, Accuracy: 26.49%\n",
      "Epoch: 38, Time Spent: 327.10s, Accuracy: 26.83%\n",
      "Epoch: 39, Time Spent: 335.76s, Accuracy: 27.05%\n",
      "Epoch: 40, Time Spent: 344.44s, Accuracy: 27.39%\n",
      "Epoch: 41, Time Spent: 353.47s, Accuracy: 27.74%\n",
      "Epoch: 42, Time Spent: 362.59s, Accuracy: 28.28%\n",
      "Epoch: 43, Time Spent: 372.38s, Accuracy: 28.72%\n",
      "Epoch: 44, Time Spent: 381.49s, Accuracy: 29.27%\n",
      "Epoch: 45, Time Spent: 390.91s, Accuracy: 29.65%\n",
      "Epoch: 46, Time Spent: 401.34s, Accuracy: 30.05%\n",
      "Epoch: 47, Time Spent: 412.63s, Accuracy: 30.43%\n"
     ]
    }
   ],
   "source": [
    "dnn.epochs = 100\n",
    "dnn.train(x_train, y_train, x_val, y_val)"
   ]
  },
  {
   "cell_type": "code",
   "execution_count": 37,
   "id": "driving-confidentiality",
   "metadata": {
    "scrolled": true
   },
   "outputs": [
    {
     "data": {
      "text/plain": [
       "<matplotlib.image.AxesImage at 0x7f9681967190>"
      ]
     },
     "execution_count": 37,
     "metadata": {},
     "output_type": "execute_result"
    },
    {
     "data": {
      "image/png": "[encoded data removed]",
      "text/plain": [
       "<Figure size 432x288 with 1 Axes>"
      ]
     },
     "metadata": {
      "needs_background": "light"
     },
     "output_type": "display_data"
    }
   ],
   "source": [
    "plt.imshow(x_val[0].reshape((28, 28)), cmap=\"binary\")"
   ]
  },
  {
   "cell_type": "code",
   "execution_count": 19,
   "id": "permanent-devon",
   "metadata": {},
   "outputs": [
    {
     "name": "stdout",
     "output_type": "stream",
     "text": [
      "Predicted 0 : [0.51654213 0.01779608 0.09885377 0.12699985 0.03506811 0.02329013\n",
      " 0.06283657 0.02128665 0.05627245 0.04105426]\n"
     ]
    },
    {
     "data": {
      "image/png": "[encoded data removed]",
      "text/plain": [
       "<Figure size 432x288 with 1 Axes>"
      ]
     },
     "metadata": {
      "needs_background": "light"
     },
     "output_type": "display_data"
    }
   ],
   "source": [
    "i = 10\n",
    "y = dnn.forward_pass(x_val[i])\n",
    "plt.imshow(x_val[i].reshape((28, 28)), cmap=\"binary\")\n",
    "print(f\"Predicted {np.argmax(y)} : {y}\")"
   ]
  },
  {
   "cell_type": "code",
   "execution_count": 42,
   "id": "second-nickel",
   "metadata": {},
   "outputs": [
    {
     "data": {
      "text/plain": [
       "0.1368"
      ]
     },
     "execution_count": 42,
     "metadata": {},
     "output_type": "execute_result"
    }
   ],
   "source": [
    "dnn.compute_accuracy(x_val, y_val)"
   ]
  },
  {
   "cell_type": "code",
   "execution_count": 38,
   "id": "nasty-interview",
   "metadata": {},
   "outputs": [],
   "source": [
    "dnn1 = dnn"
   ]
  },
  {
   "cell_type": "code",
   "execution_count": 41,
   "id": "historical-theta",
   "metadata": {},
   "outputs": [],
   "source": [
    "import pickle\n",
    "pickle.dump( dnn, open( \"dnn_mnist_scratch.p\", \"wb\" ) )"
   ]
  },
  {
   "cell_type": "code",
   "execution_count": 6,
   "id": "extensive-chicago",
   "metadata": {},
   "outputs": [],
   "source": [
    "dnn = pickle.load( open( \"dnn_mnist_scratch.p\", \"rb\" ) )"
   ]
  },
  {
   "cell_type": "code",
   "execution_count": 45,
   "id": "convenient-government",
   "metadata": {},
   "outputs": [
    {
     "data": {
      "text/plain": [
       "(128, 784)"
      ]
     },
     "execution_count": 45,
     "metadata": {},
     "output_type": "execute_result"
    }
   ],
   "source": [
    "dnn.params[\"W1\"].shape"
   ]
  },
  {
   "cell_type": "code",
   "execution_count": 8,
   "id": "proof-colony",
   "metadata": {},
   "outputs": [
    {
     "data": {
      "text/plain": [
       "0.5441"
      ]
     },
     "execution_count": 8,
     "metadata": {},
     "output_type": "execute_result"
    }
   ],
   "source": [
    "dnn.compute_accuracy(x_test, y_test)"
   ]
  },
  {
   "cell_type": "code",
   "execution_count": null,
   "id": "british-works",
   "metadata": {},
   "outputs": [],
   "source": []
  }
 ],
 "metadata": {
  "kernelspec": {
   "display_name": "tipe",
   "language": "python",
   "name": "tipe"
  },
  "language_info": {
   "codemirror_mode": {
    "name": "ipython",
    "version": 3
   },
   "file_extension": ".py",
   "mimetype": "text/x-python",
   "name": "python",
   "nbconvert_exporter": "python",
   "pygments_lexer": "ipython3",
   "version": "3.8.5"
  },
  "varInspector": {
   "cols": {
    "lenName": 16,
    "lenType": 16,
    "lenVar": 40
   },
   "kernels_config": {
    "python": {
     "delete_cmd_postfix": "",
     "delete_cmd_prefix": "del ",
     "library": "var_list.py",
     "varRefreshCmd": "print(var_dic_list())"
    },
    "r": {
     "delete_cmd_postfix": ") ",
     "delete_cmd_prefix": "rm(",
     "library": "var_list.r",
     "varRefreshCmd": "cat(var_dic_list()) "
    }
   },
   "types_to_exclude": [
    "module",
    "function",
    "builtin_function_or_method",
    "instance",
    "_Feature"
   ],
   "window_display": false
  }
 },
 "nbformat": 4,
 "nbformat_minor": 5
}
