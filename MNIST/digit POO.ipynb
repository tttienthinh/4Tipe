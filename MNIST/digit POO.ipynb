{
 "cells": [
  {
   "cell_type": "markdown",
   "metadata": {},
   "source": [
    "https://pythonprogramming.net/introduction-deep-learning-python-tensorflow-keras/"
   ]
  },
  {
   "cell_type": "code",
   "execution_count": 1,
   "metadata": {},
   "outputs": [],
   "source": [
    "import sys\n",
    "import tensorflow as tf\n",
    "import numpy as np\n",
    "import matplotlib.pyplot as plt\n",
    "\n",
    "path = sys.path[0]\n",
    "sys.path.insert(1, path[:path.index(\"4Tipe\")+5] + \"/POO\")\n",
    "\n",
    "from Model import Model, Layer"
   ]
  },
  {
   "cell_type": "code",
   "execution_count": 2,
   "metadata": {},
   "outputs": [],
   "source": [
    "(X_train, Y_train), (X_test, Y_test) = tf.keras.datasets.mnist.load_data()\n",
    "\n",
    "X_train = (X_train / 255)\n",
    "X_test = (X_test / 255)\n",
    "\n",
    "x_train = X_train.reshape(len(X_train), 28*28) # 28*28 = 784\n",
    "x_test = X_test.reshape(len(X_test), 28*28)\n",
    "\n",
    "y_train = np.zeros((len(Y_train), 10))\n",
    "y_train[np.arange(len(Y_train)), Y_train] = 1 # to categorical\n",
    "y_test = np.zeros((len(Y_test), 10))\n",
    "y_test[np.arange(len(Y_test)), Y_test] = 1 # to categorical"
   ]
  },
  {
   "cell_type": "code",
   "execution_count": 3,
   "metadata": {},
   "outputs": [],
   "source": [
    "sigmoid = lambda x: 1/(1 + np.exp(-np.maximum(-500, x)))\n",
    "relu = lambda x: np.maximum(0, x)\n",
    "d_relu = lambda x: np.maximum(0, x)/np.maximum(0.001, x)"
   ]
  },
  {
   "cell_type": "code",
   "execution_count": 75,
   "metadata": {},
   "outputs": [],
   "source": [
    "def softmax_(x):\n",
    "    shape = x.shape\n",
    "    if len(x.shape) < 2:\n",
    "        print(f\"Attention softmax shape {x.shape} : {x}\")\n",
    "    y = np.exp(np.maximum(x, 100))\n",
    "    somme = np.sum(y, axis=1)\n",
    "    y /= np.repeat(somme.reshape(somme.shape + (1, )), shape[1], axis=1)\n",
    "    return y"
   ]
  },
  {
   "cell_type": "code",
   "execution_count": null,
   "metadata": {},
   "outputs": [],
   "source": [
    "def loss_function(y_, y):\n",
    "    "
   ]
  },
  {
   "cell_type": "code",
   "execution_count": null,
   "metadata": {},
   "outputs": [],
   "source": [
    "def predict_loss(model, x, y):\n",
    "    y_ = model.predict(x)  # y_ is predicted data\n",
    "    loss = model.loss_function(y_, y)\n",
    "    return y_, loss"
   ]
  },
  {
   "cell_type": "code",
   "execution_count": 76,
   "metadata": {},
   "outputs": [],
   "source": [
    "c4T = lambda y_, y: - np.sum(y * np.log10(np.maximum(y_, 0.000_001)))\n",
    "\n",
    "d_c4T = lambda y_, y: - y / np.maximum(y_, 0.000_001)"
   ]
  },
  {
   "cell_type": "code",
   "execution_count": 77,
   "metadata": {},
   "outputs": [],
   "source": [
    "last_Layer = Layer(128, 10)"
   ]
  },
  {
   "cell_type": "code",
   "execution_count": 78,
   "metadata": {},
   "outputs": [],
   "source": [
    "last_Layer.activation = softmax_\n",
    "last_Layer.activation = softmax_"
   ]
  },
  {
   "cell_type": "code",
   "execution_count": null,
   "metadata": {},
   "outputs": [],
   "source": []
  },
  {
   "cell_type": "code",
   "execution_count": null,
   "metadata": {},
   "outputs": [],
   "source": []
  },
  {
   "cell_type": "code",
   "execution_count": 79,
   "metadata": {},
   "outputs": [
    {
     "data": {
      "text/plain": [
       "[(784, 128), (128, 128), (128, 128), (128, 10)]"
      ]
     },
     "execution_count": 79,
     "metadata": {},
     "output_type": "execute_result"
    }
   ],
   "source": [
    "model = Model([\n",
    "    Layer(784, 128),\n",
    "    Layer(128, 128),\n",
    "    Layer(128, 128),\n",
    "    Layer(128, 10),\n",
    "])\n",
    "\n",
    "model = Model([\n",
    "    Layer(784, 128),\n",
    "    Layer(128, 128),\n",
    "    Layer(128, 128),\n",
    "    last_Layer,\n",
    "])\n",
    "\n",
    "model.loss_function = c4T\n",
    "model.d_loss_function = d_c4T\n",
    "\n",
    "for i in range(len(model.layers)):\n",
    "    model.layers[i].w1 -= .5\n",
    "    model.layers[i].w1 /= 128\n",
    "    # model.layers[i].lr = 100_000\n",
    "    \"\"\"\n",
    "    model.layers[i].activation = sigmoid\n",
    "    \n",
    "    model.layers[i].activation = relu\n",
    "    model.layers[i].d_reluactivation = d_relu\n",
    "    \"\"\"\n",
    "\n",
    "model.shape()"
   ]
  },
  {
   "cell_type": "code",
   "execution_count": 80,
   "metadata": {
    "scrolled": false
   },
   "outputs": [
    {
     "name": "stdout",
     "output_type": "stream",
     "text": [
      "100.0 510.0\n"
     ]
    },
    {
     "data": {
      "text/plain": [
       "[<matplotlib.lines.Line2D at 0x7fe742d2f070>]"
      ]
     },
     "execution_count": 80,
     "metadata": {},
     "output_type": "execute_result"
    },
    {
     "data": {
      "image/png": "[encoded data removed]",
      "text/plain": [
       "<Figure size 432x288 with 1 Axes>"
      ]
     },
     "metadata": {
      "needs_background": "light"
     },
     "output_type": "display_data"
    }
   ],
   "source": [
    "epochs = 1_000\n",
    "loss = 1\n",
    "losses = []\n",
    "lr = 100_000\n",
    "for epoch in range(epochs):\n",
    "    predict, loss = model.backpropagation(x_train[i:i+100], y_train[i:i+100])\n",
    "    losses.append(loss)\n",
    "print(losses[0], losses[-1])\n",
    "plt.plot(losses)"
   ]
  },
  {
   "cell_type": "code",
   "execution_count": 74,
   "metadata": {},
   "outputs": [
    {
     "data": {
      "text/plain": [
       "array([[0.5       , 0.55491881, 0.5       , 0.74417901, 0.5       ],\n",
       "       [1.        , 1.        , 1.        , 1.        , 1.        ],\n",
       "       [0.86032687, 0.5       , 0.5       , 0.5       , 0.5       ],\n",
       "       [0.5       , 0.5       , 0.5       , 0.5       , 0.62430206],\n",
       "       [0.5       , 0.5       , 0.5       , 0.53494688, 0.92020172],\n",
       "       [0.5       , 0.5       , 0.67062572, 0.86206733, 0.5       ],\n",
       "       [0.55572291, 0.7542164 , 0.5       , 0.87476029, 0.70761989],\n",
       "       [0.87883331, 0.5       , 0.61212922, 0.5       , 0.64097457],\n",
       "       [0.5       , 0.5       , 0.5       , 0.5       , 0.52633364],\n",
       "       [0.5       , 0.5       , 0.5       , 0.5       , 0.5       ]])"
      ]
     },
     "execution_count": 74,
     "metadata": {},
     "output_type": "execute_result"
    }
   ],
   "source": [
    "np.maximum(a, 0.5)"
   ]
  },
  {
   "cell_type": "code",
   "execution_count": 32,
   "metadata": {
    "scrolled": true
   },
   "outputs": [
    {
     "data": {
      "text/plain": [
       "array([[0.23506208, 0.55491881, 0.22206104, 0.74417901, 0.25942643],\n",
       "       [0.72281171, 0.54883224, 0.89908148, 0.46285844, 0.76415025],\n",
       "       [0.86032687, 0.26627616, 0.02296425, 0.17193857, 0.49991035],\n",
       "       [0.36952517, 0.23693134, 0.41695285, 0.2308434 , 0.62430206],\n",
       "       [0.33707136, 0.12160158, 0.35724523, 0.53494688, 0.92020172],\n",
       "       [0.46646277, 0.20756066, 0.67062572, 0.86206733, 0.10609086],\n",
       "       [0.55572291, 0.7542164 , 0.04029132, 0.87476029, 0.70761989],\n",
       "       [0.87883331, 0.14986012, 0.61212922, 0.10524219, 0.64097457],\n",
       "       [0.40247509, 0.30971071, 0.01647674, 0.09773511, 0.52633364],\n",
       "       [0.32734579, 0.46140362, 0.30044468, 0.42452027, 0.04972424]])"
      ]
     },
     "execution_count": 32,
     "metadata": {},
     "output_type": "execute_result"
    }
   ],
   "source": [
    "a = np.random.random((10, 5))\n",
    "a"
   ]
  },
  {
   "cell_type": "code",
   "execution_count": 60,
   "metadata": {},
   "outputs": [],
   "source": [
    "a[1, :] = 1"
   ]
  },
  {
   "cell_type": "code",
   "execution_count": 62,
   "metadata": {},
   "outputs": [
    {
     "data": {
      "text/plain": [
       "array([[0.23506208, 0.55491881, 0.22206104, 0.74417901, 0.25942643],\n",
       "       [1.        , 1.        , 1.        , 1.        , 1.        ],\n",
       "       [0.86032687, 0.26627616, 0.02296425, 0.17193857, 0.49991035],\n",
       "       [0.36952517, 0.23693134, 0.41695285, 0.2308434 , 0.62430206],\n",
       "       [0.33707136, 0.12160158, 0.35724523, 0.53494688, 0.92020172],\n",
       "       [0.46646277, 0.20756066, 0.67062572, 0.86206733, 0.10609086],\n",
       "       [0.55572291, 0.7542164 , 0.04029132, 0.87476029, 0.70761989],\n",
       "       [0.87883331, 0.14986012, 0.61212922, 0.10524219, 0.64097457],\n",
       "       [0.40247509, 0.30971071, 0.01647674, 0.09773511, 0.52633364],\n",
       "       [0.32734579, 0.46140362, 0.30044468, 0.42452027, 0.04972424]])"
      ]
     },
     "execution_count": 62,
     "metadata": {},
     "output_type": "execute_result"
    }
   ],
   "source": [
    "a"
   ]
  },
  {
   "cell_type": "code",
   "execution_count": 61,
   "metadata": {},
   "outputs": [
    {
     "data": {
      "text/plain": [
       "array([[0.16522103, 0.22749786, 0.16308688, 0.27489826, 0.16929597],\n",
       "       [0.2       , 0.2       , 0.2       , 0.2       , 0.2       ],\n",
       "       [0.31400054, 0.17335543, 0.13591532, 0.15774919, 0.21897951],\n",
       "       [0.19665413, 0.17223377, 0.2062057 , 0.17118841, 0.253718  ],\n",
       "       [0.17132117, 0.13811273, 0.17481248, 0.20880807, 0.30694554],\n",
       "       [0.19300938, 0.14898367, 0.23672562, 0.28667333, 0.134608  ],\n",
       "       [0.18668384, 0.22767291, 0.11149558, 0.25684015, 0.21730752],\n",
       "       [0.28588   , 0.13790968, 0.2189554 , 0.13189169, 0.22536322],\n",
       "       [0.22419762, 0.20433555, 0.15240318, 0.16530428, 0.25375936],\n",
       "       [0.20094232, 0.22976929, 0.19560881, 0.22144901, 0.15223058]])"
      ]
     },
     "execution_count": 61,
     "metadata": {},
     "output_type": "execute_result"
    }
   ],
   "source": [
    "softmax_(a)"
   ]
  }
 ],
 "metadata": {
  "kernelspec": {
   "display_name": "tipe",
   "language": "python",
   "name": "tipe"
  },
  "language_info": {
   "codemirror_mode": {
    "name": "ipython",
    "version": 3
   },
   "file_extension": ".py",
   "mimetype": "text/x-python",
   "name": "python",
   "nbconvert_exporter": "python",
   "pygments_lexer": "ipython3",
   "version": "3.8.5"
  },
  "varInspector": {
   "cols": {
    "lenName": 16,
    "lenType": 16,
    "lenVar": 40
   },
   "kernels_config": {
    "python": {
     "delete_cmd_postfix": "",
     "delete_cmd_prefix": "del ",
     "library": "var_list.py",
     "varRefreshCmd": "print(var_dic_list())"
    },
    "r": {
     "delete_cmd_postfix": ") ",
     "delete_cmd_prefix": "rm(",
     "library": "var_list.r",
     "varRefreshCmd": "cat(var_dic_list()) "
    }
   },
   "types_to_exclude": [
    "module",
    "function",
    "builtin_function_or_method",
    "instance",
    "_Feature"
   ],
   "window_display": false
  }
 },
 "nbformat": 4,
 "nbformat_minor": 2
}
