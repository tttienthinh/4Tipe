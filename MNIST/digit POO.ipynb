{
 "cells": [
  {
   "cell_type": "code",
   "execution_count": 1,
   "metadata": {},
   "outputs": [],
   "source": [
    "import sys\n",
    "import tensorflow as tf\n",
    "\n",
    "path = sys.path[0]\n",
    "sys.path.insert(1, path[:path.index(\"4Tipe\")+5] + \"/POO\")\n",
    "\n",
    "from Model import Model, Layer"
   ]
  },
  {
   "cell_type": "code",
   "execution_count": 2,
   "metadata": {},
   "outputs": [],
   "source": [
    "(X_train, Y_train), (X_test, Y_test) = tf.keras.datasets.mnist.load_data()\n",
    "\n",
    "X_train = (X_train / 255)\n",
    "X_test = (X_test / 255)\n",
    "\n",
    "x_train = X_train.reshape(len(X_train), 28*28) # 28*28 = 784\n",
    "x_test = X_test.reshape(len(X_test), 28*28)\n",
    "\n",
    "y_train = np.zeros((len(Y_train), 10))\n",
    "y_train[np.arange(len(Y_train)), Y_train] = 1 # to categorical\n",
    "y_test = np.zeros((len(Y_test), 10))\n",
    "y_test[np.arange(len(Y_test)), Y_test] = 1 # to categorical"
   ]
  },
  {
   "cell_type": "code",
   "execution_count": 51,
   "metadata": {},
   "outputs": [],
   "source": [
    "sigmoid = lambda x: 1/(1 + np.exp(-np.maximum(-500, x)))\n",
    "relu = lambda x: np.maximum(0, x)\n",
    "d_relu = lambda x: np.maximum(0, x)/np.maximum(0.001, x)"
   ]
  },
  {
   "cell_type": "code",
   "execution_count": 56,
   "metadata": {},
   "outputs": [
    {
     "data": {
      "text/plain": [
       "[(784, 128), (128, 128), (128, 128), (128, 10)]"
      ]
     },
     "execution_count": 56,
     "metadata": {},
     "output_type": "execute_result"
    }
   ],
   "source": [
    "model = Model([\n",
    "    Layer(784, 128),\n",
    "    Layer(128, 128),\n",
    "    Layer(128, 128),\n",
    "    Layer(128, 10),\n",
    "])\n",
    "for i in range(len(model.layers)):\n",
    "    model.layers[i].w1 -= .5\n",
    "    model.layers[i].w1 *= .0001\n",
    "    \"\"\"\n",
    "    model.layers[i].activation = sigmoid\n",
    "    \"\"\"\n",
    "    model.layers[i].activation = relu\n",
    "    model.layers[i].d_reluactivation = relu\n",
    "model.shape()"
   ]
  },
  {
   "cell_type": "code",
   "execution_count": 57,
   "metadata": {
    "scrolled": true
   },
   "outputs": [
    {
     "name": "stdout",
     "output_type": "stream",
     "text": [
      "Training Epoch 0\n",
      "0.09999999999999995\n"
     ]
    }
   ],
   "source": [
    "epoch = 0\n",
    "loss = 1\n",
    "losses = []\n",
    "while loss > 0.01:\n",
    "    print(f\"Training Epoch {epoch}\")\n",
    "    predict, loss = model.backpropagation(x_train, y_train)\n",
    "    losses.append(loss)\n",
    "    epoch += 1\n",
    "    print(loss)"
   ]
  },
  {
   "cell_type": "code",
   "execution_count": 58,
   "metadata": {},
   "outputs": [
    {
     "name": "stdout",
     "output_type": "stream",
     "text": [
      "(array([[0.00000000e+00, 0.00000000e+00, 0.00000000e+00, ...,\n",
      "        0.00000000e+00, 1.01144279e-15, 0.00000000e+00],\n",
      "       [0.00000000e+00, 0.00000000e+00, 0.00000000e+00, ...,\n",
      "        0.00000000e+00, 1.45161692e-15, 0.00000000e+00],\n",
      "       [0.00000000e+00, 0.00000000e+00, 0.00000000e+00, ...,\n",
      "        0.00000000e+00, 3.24929584e-15, 0.00000000e+00],\n",
      "       ...,\n",
      "       [0.00000000e+00, 0.00000000e+00, 0.00000000e+00, ...,\n",
      "        1.35443751e-15, 0.00000000e+00, 0.00000000e+00],\n",
      "       [0.00000000e+00, 1.78243983e-15, 0.00000000e+00, ...,\n",
      "        3.21478032e-16, 6.30833446e-16, 0.00000000e+00],\n",
      "       [0.00000000e+00, 9.02731982e-16, 0.00000000e+00, ...,\n",
      "        8.52339553e-16, 1.96214172e-15, 0.00000000e+00]]), 0.09999999999999987)\n"
     ]
    }
   ],
   "source": [
    "print(model.predict_loss(x_test, y_test))"
   ]
  },
  {
   "cell_type": "code",
   "execution_count": 28,
   "metadata": {},
   "outputs": [
    {
     "data": {
      "text/plain": [
       "array([[4.97119458e-232, 0.00000000e+000, 0.00000000e+000,\n",
       "        0.00000000e+000, 0.00000000e+000, 0.00000000e+000,\n",
       "        0.00000000e+000, 0.00000000e+000, 0.00000000e+000,\n",
       "        0.00000000e+000]])"
      ]
     },
     "execution_count": 28,
     "metadata": {},
     "output_type": "execute_result"
    }
   ],
   "source": [
    "model.predict([x_test[0]])"
   ]
  },
  {
   "cell_type": "code",
   "execution_count": 7,
   "metadata": {},
   "outputs": [],
   "source": [
    "l = Layer(784, 10)"
   ]
  },
  {
   "cell_type": "code",
   "execution_count": 50,
   "metadata": {},
   "outputs": [
    {
     "data": {
      "text/plain": [
       "8.751606726979457e+244"
      ]
     },
     "execution_count": 50,
     "metadata": {},
     "output_type": "execute_result"
    }
   ],
   "source": [
    "np.exp(564)"
   ]
  },
  {
   "cell_type": "code",
   "execution_count": null,
   "metadata": {},
   "outputs": [],
   "source": []
  }
 ],
 "metadata": {
  "kernelspec": {
   "display_name": "tipe",
   "language": "python",
   "name": "tipe"
  },
  "language_info": {
   "codemirror_mode": {
    "name": "ipython",
    "version": 3
   },
   "file_extension": ".py",
   "mimetype": "text/x-python",
   "name": "python",
   "nbconvert_exporter": "python",
   "pygments_lexer": "ipython3",
   "version": "3.8.5"
  },
  "varInspector": {
   "cols": {
    "lenName": 16,
    "lenType": 16,
    "lenVar": 40
   },
   "kernels_config": {
    "python": {
     "delete_cmd_postfix": "",
     "delete_cmd_prefix": "del ",
     "library": "var_list.py",
     "varRefreshCmd": "print(var_dic_list())"
    },
    "r": {
     "delete_cmd_postfix": ") ",
     "delete_cmd_prefix": "rm(",
     "library": "var_list.r",
     "varRefreshCmd": "cat(var_dic_list()) "
    }
   },
   "types_to_exclude": [
    "module",
    "function",
    "builtin_function_or_method",
    "instance",
    "_Feature"
   ],
   "window_display": false
  }
 },
 "nbformat": 4,
 "nbformat_minor": 2
}
