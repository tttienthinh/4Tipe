{
 "cells": [
  {
   "cell_type": "code",
   "execution_count": 1,
   "id": "arabic-generic",
   "metadata": {},
   "outputs": [],
   "source": [
    "import numpy as np"
   ]
  },
  {
   "cell_type": "code",
   "execution_count": 4,
   "id": "armed-copper",
   "metadata": {},
   "outputs": [
    {
     "data": {
      "text/plain": [
       "array([[0.27584278, 0.89407253, 0.85947789, 0.41981094, 0.73347224],\n",
       "       [0.72607017, 0.16198519, 0.50956387, 0.489129  , 0.30892184],\n",
       "       [0.73572853, 0.73752088, 0.14800815, 0.30986053, 0.66918761],\n",
       "       [0.84533984, 0.94466054, 0.69016385, 0.99868974, 0.86444116]])"
      ]
     },
     "execution_count": 4,
     "metadata": {},
     "output_type": "execute_result"
    }
   ],
   "source": [
    "a = np.random.random((4, 5)) \n",
    "a"
   ]
  },
  {
   "cell_type": "code",
   "execution_count": 31,
   "id": "natural-programmer",
   "metadata": {},
   "outputs": [
    {
     "data": {
      "text/plain": [
       "array([0.27584278, 0.72607017, 0.73572853, 0.84533984, 0.89407253,\n",
       "       0.16198519, 0.73752088, 0.94466054, 0.85947789, 0.50956387,\n",
       "       0.14800815, 0.69016385, 0.41981094, 0.489129  , 0.30986053,\n",
       "       0.99868974, 0.73347224, 0.30892184, 0.66918761, 0.86444116,\n",
       "       1.        , 1.        , 1.        , 1.        ])"
      ]
     },
     "execution_count": 31,
     "metadata": {},
     "output_type": "execute_result"
    }
   ],
   "source": [
    "np.append(a.T,  np.ones((1, 4)).T).T"
   ]
  },
  {
   "cell_type": "code",
   "execution_count": 9,
   "id": "sporting-trader",
   "metadata": {},
   "outputs": [
    {
     "data": {
      "text/plain": [
       "array([[1.],\n",
       "       [1.],\n",
       "       [1.],\n",
       "       [1.],\n",
       "       [1.]])"
      ]
     },
     "execution_count": 9,
     "metadata": {},
     "output_type": "execute_result"
    }
   ],
   "source": [
    " np.ones((1, 5)).T"
   ]
  },
  {
   "cell_type": "code",
   "execution_count": 38,
   "id": "announced-expansion",
   "metadata": {},
   "outputs": [
    {
     "data": {
      "text/plain": [
       "array([[0.27584278, 0.89407253, 0.85947789, 0.41981094, 0.73347224],\n",
       "       [0.72607017, 0.16198519, 0.50956387, 0.489129  , 0.30892184],\n",
       "       [0.73572853, 0.73752088, 0.14800815, 0.30986053, 0.66918761],\n",
       "       [0.84533984, 0.94466054, 0.69016385, 0.99868974, 0.86444116],\n",
       "       [0.27584278, 0.89407253, 0.85947789, 0.41981094, 0.73347224],\n",
       "       [0.72607017, 0.16198519, 0.50956387, 0.489129  , 0.30892184],\n",
       "       [0.73572853, 0.73752088, 0.14800815, 0.30986053, 0.66918761],\n",
       "       [0.84533984, 0.94466054, 0.69016385, 0.99868974, 0.86444116]])"
      ]
     },
     "execution_count": 38,
     "metadata": {},
     "output_type": "execute_result"
    }
   ],
   "source": [
    "np.concatenate((a,a))"
   ]
  },
  {
   "cell_type": "code",
   "execution_count": 35,
   "id": "pharmaceutical-collect",
   "metadata": {},
   "outputs": [
    {
     "data": {
      "text/plain": [
       "array([[0.27584278, 0.89407253, 0.85947789, 0.41981094, 0.73347224],\n",
       "       [0.72607017, 0.16198519, 0.50956387, 0.489129  , 0.30892184],\n",
       "       [0.73572853, 0.73752088, 0.14800815, 0.30986053, 0.66918761],\n",
       "       [0.84533984, 0.94466054, 0.69016385, 0.99868974, 0.86444116]])"
      ]
     },
     "execution_count": 35,
     "metadata": {},
     "output_type": "execute_result"
    }
   ],
   "source": [
    "a"
   ]
  },
  {
   "cell_type": "code",
   "execution_count": 36,
   "id": "falling-massachusetts",
   "metadata": {},
   "outputs": [
    {
     "data": {
      "text/plain": [
       "array([0.27584278, 0.89407253, 0.85947789, 0.41981094, 0.73347224,\n",
       "       0.72607017, 0.16198519, 0.50956387, 0.489129  , 0.30892184,\n",
       "       0.73572853, 0.73752088, 0.14800815, 0.30986053, 0.66918761,\n",
       "       0.84533984, 0.94466054, 0.69016385, 0.99868974, 0.86444116])"
      ]
     },
     "execution_count": 36,
     "metadata": {},
     "output_type": "execute_result"
    }
   ],
   "source": [
    "np.concatenate(a)"
   ]
  },
  {
   "cell_type": "code",
   "execution_count": 37,
   "id": "sitting-interview",
   "metadata": {},
   "outputs": [
    {
     "data": {
      "text/plain": [
       "array([[0.27584278, 0.89407253, 0.85947789, 0.41981094, 0.73347224],\n",
       "       [0.72607017, 0.16198519, 0.50956387, 0.489129  , 0.30892184],\n",
       "       [0.73572853, 0.73752088, 0.14800815, 0.30986053, 0.66918761],\n",
       "       [0.84533984, 0.94466054, 0.69016385, 0.99868974, 0.86444116]])"
      ]
     },
     "execution_count": 37,
     "metadata": {},
     "output_type": "execute_result"
    }
   ],
   "source": [
    "a"
   ]
  },
  {
   "cell_type": "code",
   "execution_count": null,
   "id": "prepared-peninsula",
   "metadata": {},
   "outputs": [],
   "source": []
  }
 ],
 "metadata": {
  "kernelspec": {
   "display_name": "tipe",
   "language": "python",
   "name": "tipe"
  },
  "language_info": {
   "codemirror_mode": {
    "name": "ipython",
    "version": 3
   },
   "file_extension": ".py",
   "mimetype": "text/x-python",
   "name": "python",
   "nbconvert_exporter": "python",
   "pygments_lexer": "ipython3",
   "version": "3.8.5"
  },
  "varInspector": {
   "cols": {
    "lenName": 16,
    "lenType": 16,
    "lenVar": 40
   },
   "kernels_config": {
    "python": {
     "delete_cmd_postfix": "",
     "delete_cmd_prefix": "del ",
     "library": "var_list.py",
     "varRefreshCmd": "print(var_dic_list())"
    },
    "r": {
     "delete_cmd_postfix": ") ",
     "delete_cmd_prefix": "rm(",
     "library": "var_list.r",
     "varRefreshCmd": "cat(var_dic_list()) "
    }
   },
   "types_to_exclude": [
    "module",
    "function",
    "builtin_function_or_method",
    "instance",
    "_Feature"
   ],
   "window_display": false
  }
 },
 "nbformat": 4,
 "nbformat_minor": 5
}
