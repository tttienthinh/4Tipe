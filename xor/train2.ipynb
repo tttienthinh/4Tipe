{
 "cells": [
  {
   "cell_type": "code",
   "execution_count": 1,
   "id": "forbidden-masters",
   "metadata": {},
   "outputs": [],
   "source": [
    "import numpy as np\n",
    "import matplotlib.pyplot as plt"
   ]
  },
  {
   "cell_type": "code",
   "execution_count": 3,
   "id": "confidential-subscription",
   "metadata": {},
   "outputs": [],
   "source": [
    "train_input = np.array([\n",
    "    [0, 0], [1, 1],\n",
    "    [0, 1], [1, 0]\n",
    "])\n",
    "train_output = np.array([0, 0, 1, 1])"
   ]
  },
  {
   "cell_type": "code",
   "execution_count": null,
   "id": "separate-demonstration",
   "metadata": {},
   "outputs": [],
   "source": []
  },
  {
   "cell_type": "code",
   "execution_count": 188,
   "id": "challenging-riverside",
   "metadata": {},
   "outputs": [
    {
     "name": "stdout",
     "output_type": "stream",
     "text": [
      "[[0.4359949  0.02592623]\n",
      " [0.54966248 0.43532239]]\n",
      "[0.4203678  0.33033482]\n"
     ]
    }
   ],
   "source": [
    "np.random.seed(2)\n",
    "\n",
    "w1 = np.random.rand(2, 2)\n",
    "w2 = np.random.rand(2, )\n",
    "\n",
    "sigmoid = lambda x: 1/(1 + np.exp(-x))\n",
    "d_sigmoid = lambda x: x * (1-x)\n",
    "print(w1)\n",
    "print(w2)"
   ]
  },
  {
   "cell_type": "code",
   "execution_count": 190,
   "id": "guided-apache",
   "metadata": {
    "scrolled": false
   },
   "outputs": [
    {
     "data": {
      "text/plain": [
       "Text(0, 0.5, 'Loss value')"
      ]
     },
     "execution_count": 190,
     "metadata": {},
     "output_type": "execute_result"
    },
    {
     "data": {
      "image/png": "[encoded data removed]",
      "text/plain": [
       "<Figure size 432x288 with 1 Axes>"
      ]
     },
     "metadata": {
      "needs_background": "light"
     },
     "output_type": "display_data"
    }
   ],
   "source": [
    "lr = 0.1\n",
    "losses = []\n",
    "for epoch in range(100_000):\n",
    "    y1 = np.dot(train_input, w1) # (4, 2) 4 entrées vont vers 2 neuronnes\n",
    "    b = sigmoid(y1) # (4, 2) fonction d'activation\n",
    "    \n",
    "    y2 = np.dot(b, w2) # (4, ) 4 entrées vont vers le neuronne de sortie\n",
    "    c = sigmoid(y2) # (4, ) fonction d'activation\n",
    "    loss = -(1/4)*np.sum(train_output*np.log(c)+(1-train_output)*np.log(1-c))\n",
    "    losses.append(loss)\n",
    "    \n",
    "    # (4, ) Calcul de l'écart correspondant à (dE/dc)*(dc/dy2)\n",
    "    e2 = (c - train_output) * d_sigmoid(c)\n",
    "    dw2 = np.dot(e2, b) # (2, ) changement de w2\n",
    "    \n",
    "    # (4, 2) Calcul de l'écart correspondant à ((dE/dc)*(dc/dy2)) * (dy2/db)*(db/dy1)\n",
    "    e1 = np.dot(e2.reshape(4, 1), w2.reshape(1, 2)) * d_sigmoid(b)\n",
    "    dw1 = np.dot(e1.T, train_input) # (2, 2) changement de w1\n",
    "    \n",
    "    w1 -= dw1.T * lr\n",
    "    w2 -= dw2 * lr\n",
    "plt.plot(losses)\n",
    "plt.xlabel(\"EPOCHS\")\n",
    "plt.ylabel(\"Loss value\")"
   ]
  },
  {
   "cell_type": "code",
   "execution_count": 191,
   "id": "through-empty",
   "metadata": {},
   "outputs": [
    {
     "data": {
      "text/plain": [
       "array([0.01723033, 0.05624211, 0.9579982 , 0.95799822])"
      ]
     },
     "execution_count": 191,
     "metadata": {},
     "output_type": "execute_result"
    }
   ],
   "source": [
    "y1 = np.dot(train_input, w1) # (4, 2) 4 entrées vont vers 2 neuronnes\n",
    "b = sigmoid(y1) # (4, 2) fonction d'activation\n",
    "\n",
    "y2 = np.dot(b, w2) # (4, ) 4 entrées vont vers le neuronne de sortie\n",
    "c = sigmoid(y2) # (4, ) fonction d'activation\n",
    "c"
   ]
  }
 ],
 "metadata": {
  "kernelspec": {
   "display_name": "tipe",
   "language": "python",
   "name": "tipe"
  },
  "language_info": {
   "codemirror_mode": {
    "name": "ipython",
    "version": 3
   },
   "file_extension": ".py",
   "mimetype": "text/x-python",
   "name": "python",
   "nbconvert_exporter": "python",
   "pygments_lexer": "ipython3",
   "version": "3.8.5"
  },
  "varInspector": {
   "cols": {
    "lenName": 16,
    "lenType": 16,
    "lenVar": 40
   },
   "kernels_config": {
    "python": {
     "delete_cmd_postfix": "",
     "delete_cmd_prefix": "del ",
     "library": "var_list.py",
     "varRefreshCmd": "print(var_dic_list())"
    },
    "r": {
     "delete_cmd_postfix": ") ",
     "delete_cmd_prefix": "rm(",
     "library": "var_list.r",
     "varRefreshCmd": "cat(var_dic_list()) "
    }
   },
   "types_to_exclude": [
    "module",
    "function",
    "builtin_function_or_method",
    "instance",
    "_Feature"
   ],
   "window_display": false
  }
 },
 "nbformat": 4,
 "nbformat_minor": 5
}
