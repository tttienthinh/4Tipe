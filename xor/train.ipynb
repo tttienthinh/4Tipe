{
 "cells": [
  {
   "cell_type": "code",
   "execution_count": 2,
   "metadata": {},
   "outputs": [],
   "source": [
    "import numpy as np\n",
    "import matplotlib.pyplot as plt"
   ]
  },
  {
   "cell_type": "code",
   "execution_count": 3,
   "metadata": {},
   "outputs": [],
   "source": [
    "w1 = np.random.randn(2, 2)\n",
    "w2 = np.random.randn(2, )\n",
    "\n",
    "sigmoid = lambda x: 1/(1 + np.exp(-x))\n",
    "d_sigmoid = lambda x: x * (1-x)"
   ]
  },
  {
   "cell_type": "code",
   "execution_count": 4,
   "metadata": {},
   "outputs": [],
   "source": [
    "train_input = np.array([\n",
    "    [0, 0], [1, 1],\n",
    "    [0, 1], [1, 0]\n",
    "])\n",
    "train_output = np.array([0, 0, 1, 1])"
   ]
  },
  {
   "cell_type": "code",
   "execution_count": 5,
   "metadata": {},
   "outputs": [
    {
     "data": {
      "text/plain": [
       "array([[-0.63574566, -0.873568  ],\n",
       "       [-0.14455291, -0.13424166]])"
      ]
     },
     "execution_count": 5,
     "metadata": {},
     "output_type": "execute_result"
    }
   ],
   "source": [
    "w1"
   ]
  },
  {
   "cell_type": "code",
   "execution_count": 6,
   "metadata": {
    "scrolled": true
   },
   "outputs": [
    {
     "data": {
      "text/plain": [
       "array([0.03047521, 0.11547287])"
      ]
     },
     "execution_count": 6,
     "metadata": {},
     "output_type": "execute_result"
    }
   ],
   "source": [
    "w2"
   ]
  },
  {
   "cell_type": "code",
   "execution_count": 7,
   "metadata": {
    "scrolled": false
   },
   "outputs": [
    {
     "name": "stdout",
     "output_type": "stream",
     "text": [
      "[0.34620887 0.29451242]\n",
      "0.5111379021935549\n"
     ]
    }
   ],
   "source": [
    "b = sigmoid(np.dot(train_input[3], w1))\n",
    "print(b)\n",
    "\n",
    "c = sigmoid(np.dot(b, w2))\n",
    "print(c)"
   ]
  },
  {
   "cell_type": "code",
   "execution_count": 8,
   "metadata": {},
   "outputs": [],
   "source": [
    "w1 = np.random.randn(2, 2)\n",
    "w2 = np.random.randn(2, )"
   ]
  },
  {
   "cell_type": "code",
   "execution_count": 9,
   "metadata": {},
   "outputs": [],
   "source": [
    "lr = 0.1"
   ]
  },
  {
   "cell_type": "code",
   "execution_count": 10,
   "metadata": {},
   "outputs": [],
   "source": [
    "for i in range(10_000):\n",
    "    for i in range(4):\n",
    "        x = train_input[i]\n",
    "        y = train_output[i]\n",
    "        \n",
    "        b = sigmoid(np.dot(x, w1))\n",
    "        c = sigmoid(np.dot(b, w2))\n",
    "        e2 = 2*(c - y) * d_sigmoid(c)\n",
    "        dw2 = b * e2\n",
    "        \n",
    "        e1 = e2*w2 * d_sigmoid(b)\n",
    "        dw1 = np.array([\n",
    "            [x[0] * e1[0], x[0] * e1[1]],\n",
    "            [x[1] * e1[0], x[1] * e1[1]],\n",
    "        ])\n",
    "        w1 = w1 - lr * dw1\n",
    "        w2 = w2 - lr * dw2"
   ]
  },
  {
   "cell_type": "code",
   "execution_count": 11,
   "metadata": {
    "scrolled": true
   },
   "outputs": [
    {
     "name": "stdout",
     "output_type": "stream",
     "text": [
      "0\n",
      "0.1399757646413563\n",
      "\n",
      "0\n",
      "0.025878338472785485\n",
      "\n",
      "1\n",
      "0.07354267196181621\n",
      "\n",
      "1\n",
      "0.025972540098268257\n",
      "\n"
     ]
    }
   ],
   "source": [
    "for i in range(4):\n",
    "    b = sigmoid(np.dot(w1, train_input[i]))\n",
    "    c = sigmoid(np.dot(w2, b))\n",
    "    print(train_output[i])\n",
    "    print(c)\n",
    "    print()"
   ]
  },
  {
   "cell_type": "code",
   "execution_count": 12,
   "metadata": {},
   "outputs": [],
   "source": [
    "for i in range(10_000):\n",
    "    l_dw1 = []\n",
    "    l_dw2 = []\n",
    "    for i in range(4):\n",
    "        x = train_input[i]\n",
    "        y = train_output[i]\n",
    "\n",
    "        b = sigmoid(np.dot(x, w1))\n",
    "        c = sigmoid(np.dot(b, w2))\n",
    "        e2 = 2*(c - y) * d_sigmoid(c)\n",
    "        dw2 = b * e2\n",
    "\n",
    "        e1 = e2*w2 * d_sigmoid(b)\n",
    "        dw1 = np.array([\n",
    "            [x[0] * e1[0], x[0] * e1[1]],\n",
    "            [x[1] * e1[0], x[1] * e1[1]],\n",
    "        ])\n",
    "        l_dw1.append(dw1)\n",
    "        l_dw2.append(dw2)\n",
    "    w1 = w1 - lr * sum(l_dw1)\n",
    "    w2 = w2 - lr * sum(l_dw2)"
   ]
  },
  {
   "cell_type": "code",
   "execution_count": 15,
   "metadata": {
    "scrolled": true
   },
   "outputs": [
    {
     "ename": "TypeError",
     "evalue": "object of type 'numpy.float64' has no len()",
     "output_type": "error",
     "traceback": [
      "\u001b[0;31m---------------------------------------------------------------------------\u001b[0m",
      "\u001b[0;31mTypeError\u001b[0m                                 Traceback (most recent call last)",
      "\u001b[0;32m<ipython-input-15-61c102fa2a9a>\u001b[0m in \u001b[0;36m<module>\u001b[0;34m\u001b[0m\n\u001b[1;32m     11\u001b[0m \u001b[0;34m\u001b[0m\u001b[0m\n\u001b[1;32m     12\u001b[0m \u001b[0;31m# (4, 2) Calcul de l'écart correspondant à ((dE/dc)*(dc/dy2)) * (dy2/db)*(db/dy1)\u001b[0m\u001b[0;34m\u001b[0m\u001b[0;34m\u001b[0m\u001b[0;34m\u001b[0m\u001b[0m\n\u001b[0;32m---> 13\u001b[0;31m \u001b[0me1\u001b[0m \u001b[0;34m=\u001b[0m \u001b[0mnp\u001b[0m\u001b[0;34m.\u001b[0m\u001b[0mdot\u001b[0m\u001b[0;34m(\u001b[0m\u001b[0me2\u001b[0m\u001b[0;34m.\u001b[0m\u001b[0mreshape\u001b[0m\u001b[0;34m(\u001b[0m\u001b[0mlen\u001b[0m\u001b[0;34m(\u001b[0m\u001b[0me2\u001b[0m\u001b[0;34m)\u001b[0m\u001b[0;34m,\u001b[0m \u001b[0;36m1\u001b[0m\u001b[0;34m)\u001b[0m\u001b[0;34m,\u001b[0m \u001b[0mw2\u001b[0m\u001b[0;34m.\u001b[0m\u001b[0mreshape\u001b[0m\u001b[0;34m(\u001b[0m\u001b[0;36m1\u001b[0m\u001b[0;34m,\u001b[0m \u001b[0mhidden_n\u001b[0m\u001b[0;34m)\u001b[0m\u001b[0;34m)\u001b[0m \u001b[0;34m*\u001b[0m \u001b[0md_sigmoid\u001b[0m\u001b[0;34m(\u001b[0m\u001b[0mb\u001b[0m\u001b[0;34m)\u001b[0m\u001b[0;34m\u001b[0m\u001b[0;34m\u001b[0m\u001b[0m\n\u001b[0m\u001b[1;32m     14\u001b[0m \u001b[0mdw1\u001b[0m \u001b[0;34m=\u001b[0m \u001b[0mnp\u001b[0m\u001b[0;34m.\u001b[0m\u001b[0mdot\u001b[0m\u001b[0;34m(\u001b[0m\u001b[0me1\u001b[0m\u001b[0;34m.\u001b[0m\u001b[0mT\u001b[0m\u001b[0;34m,\u001b[0m \u001b[0mx\u001b[0m\u001b[0;34m)\u001b[0m \u001b[0;31m# (2, 2) changement de w1\u001b[0m\u001b[0;34m\u001b[0m\u001b[0;34m\u001b[0m\u001b[0m\n\u001b[1;32m     15\u001b[0m \u001b[0;34m\u001b[0m\u001b[0m\n",
      "\u001b[0;31mTypeError\u001b[0m: object of type 'numpy.float64' has no len()"
     ]
    }
   ],
   "source": [
    "y1 = np.dot(x, w1) # (4, 2) 4 entrées vont vers 2 neuronnes\n",
    "b = sigmoid(y1) # (4, 2) fonction d'activation\n",
    "\n",
    "y2 = np.dot(b, w2) # (4, ) 4 entrées vont vers le neuronne de sortie\n",
    "c = sigmoid(y2) # (4, ) fonction d'activation\n",
    "loss = -(1/4)*np.sum(y*np.log(c)+(1-y)*np.log(1-c))\n",
    "\n",
    "# (4, ) Calcul de l'écart correspondant à (dE/dc)*(dc/dy2)\n",
    "e2 = 2*(c - y) * d_sigmoid(c)\n",
    "dw2 = np.dot(e2, b) # (2, ) changement de w2\n",
    "\n",
    "# (4, 2) Calcul de l'écart correspondant à ((dE/dc)*(dc/dy2)) * (dy2/db)*(db/dy1)\n",
    "e1 = np.dot(e2.reshape(len(e2), 1), w2.reshape(1, hidden_n)) * d_sigmoid(b)\n",
    "dw1 = np.dot(e1.T, x) # (2, 2) changement de w1\n",
    "\n",
    "w1 -= dw1.T * lr\n",
    "w2 -= dw2 * lr"
   ]
  },
  {
   "cell_type": "code",
   "execution_count": 16,
   "metadata": {},
   "outputs": [
    {
     "data": {
      "text/plain": [
       "-0.026377285879646536"
      ]
     },
     "execution_count": 16,
     "metadata": {},
     "output_type": "execute_result"
    }
   ],
   "source": [
    "e2"
   ]
  }
 ],
 "metadata": {
  "kernelspec": {
   "display_name": "tipe",
   "language": "python",
   "name": "tipe"
  },
  "language_info": {
   "codemirror_mode": {
    "name": "ipython",
    "version": 3
   },
   "file_extension": ".py",
   "mimetype": "text/x-python",
   "name": "python",
   "nbconvert_exporter": "python",
   "pygments_lexer": "ipython3",
   "version": "3.8.5"
  },
  "varInspector": {
   "cols": {
    "lenName": 16,
    "lenType": 16,
    "lenVar": 40
   },
   "kernels_config": {
    "python": {
     "delete_cmd_postfix": "",
     "delete_cmd_prefix": "del ",
     "library": "var_list.py",
     "varRefreshCmd": "print(var_dic_list())"
    },
    "r": {
     "delete_cmd_postfix": ") ",
     "delete_cmd_prefix": "rm(",
     "library": "var_list.r",
     "varRefreshCmd": "cat(var_dic_list()) "
    }
   },
   "types_to_exclude": [
    "module",
    "function",
    "builtin_function_or_method",
    "instance",
    "_Feature"
   ],
   "window_display": false
  }
 },
 "nbformat": 4,
 "nbformat_minor": 2
}
